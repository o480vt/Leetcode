{
 "cells": [
  {
   "cell_type": "markdown",
   "metadata": {},
   "source": [
    "**리트코드 문제 풀이 시작(총 202개).**\n",
    "==="
   ]
  },
  {
   "cell_type": "code",
   "execution_count": null,
   "metadata": {},
   "outputs": [],
   "source": [
    "#2716. Minimize String Length\n",
    "class Solution:\n",
    "    def minimizedStringLength(self, s: str) -> int:\n",
    "        return len(set(s))"
   ]
  },
  {
   "cell_type": "code",
   "execution_count": null,
   "metadata": {},
   "outputs": [],
   "source": [
    "#2678. Number of Senior Citizens\n",
    "class Solution:\n",
    "    def countSeniors(self, details: List[str]) -> int:\n",
    "        out = 0\n",
    "        for detail in details:\n",
    "            if int(detail[-4:-2]) > 60:\n",
    "                out += 1\n",
    "        return out"
   ]
  },
  {
   "cell_type": "code",
   "execution_count": null,
   "metadata": {},
   "outputs": [],
   "source": [
    "#2255. Count Prefixes of a Given String\n",
    "class Solution:\n",
    "    def countPrefixes(self, words: List[str], s: str) -> int:\n",
    "        out = 0\n",
    "        for word in words:\n",
    "            if s.startswith(word) :\n",
    "                out += 1\n",
    "        return out"
   ]
  },
  {
   "cell_type": "code",
   "execution_count": null,
   "metadata": {},
   "outputs": [],
   "source": [
    "#9. Palindrome Number\n",
    "class Solution:\n",
    "    def isPalindrome(self, x: int) -> bool:\n",
    "        str_number = str(x)\n",
    "        return str_number == str_number[::-1]"
   ]
  },
  {
   "cell_type": "code",
   "execution_count": null,
   "metadata": {},
   "outputs": [],
   "source": [
    "#13. Roman to Integer\n",
    "class Solution:\n",
    "    def romanToInt(self, s: str) -> int:\n",
    "        I = s.count('I')\n",
    "        IV = s.count('IV')\n",
    "        V = s.count('V')\n",
    "        IX = s.count('IX')\n",
    "        X = s.count('X')\n",
    "        XL = s.count('XL')\n",
    "        L = s.count('L')\n",
    "        XC = s.count('XC')\n",
    "        C = s.count('C')\n",
    "        CD = s.count('CD')\n",
    "        D = s.count('D')\n",
    "        CM = s.count('CM')\n",
    "        M = s.count('M')\n",
    "\n",
    "        num=(I-IV-IX)+IV*4+(V-IV)*5+IX*9+(X-IX-XL-XC)*10+XL*40+(L-XL)*50+XC*90+(C-XC-CD-CM)*100+(D-CD)*500+CD*400+CM*900+(M-CM)*1000\n",
    "        return num"
   ]
  },
  {
   "cell_type": "code",
   "execution_count": null,
   "metadata": {},
   "outputs": [],
   "source": [
    "#3110. Score of a String\n",
    "class Solution:\n",
    "    def scoreOfString(self, s: str) -> int:\n",
    "        asciilist = [ord(char) for char in s]\n",
    "        out = 0\n",
    "        for asciileft, asciiright in zip(asciilist[:-1],asciilist[1:]):\n",
    "            out += abs(asciileft - asciiright)\n",
    "        return out"
   ]
  },
  {
   "cell_type": "code",
   "execution_count": null,
   "metadata": {},
   "outputs": [],
   "source": [
    "#2315. Count Asterisks\n",
    "class Solution:\n",
    "    def countAsterisks(self, s: str) -> int:\n",
    "        out = 0\n",
    "        flag = True\n",
    "        for char in s:\n",
    "            if char == \"|\":\n",
    "                flag = not flag\n",
    "            if flag and char == \"*\":\n",
    "                out += 1\n",
    "        return out"
   ]
  },
  {
   "cell_type": "code",
   "execution_count": null,
   "metadata": {},
   "outputs": [],
   "source": [
    "#3168. Minimum Number of Chairs in a Waiting Room\n",
    "class Solution:\n",
    "    def minimumChairs(self, s: str) -> int:\n",
    "        out = 0\n",
    "        current_num_people = 0\n",
    "        for char in s:\n",
    "            if char ==\"E\":\n",
    "                current_num_people += 1\n",
    "                out = max(out, current_num_people)\n",
    "            else:\n",
    "                current_num_people -= 1\n",
    "        return out"
   ]
  },
  {
   "cell_type": "code",
   "execution_count": null,
   "metadata": {},
   "outputs": [],
   "source": [
    "#2710. Remove Trailing Zeros From a String\n",
    "class Solution:\n",
    "    def removeTrailingZeros(self, num: str) -> str:\n",
    "        return num.rstrip('0')"
   ]
  },
  {
   "cell_type": "code",
   "execution_count": null,
   "metadata": {},
   "outputs": [],
   "source": [
    "#2278. Percentage of Letter in String\n",
    "class Solution:\n",
    "    def percentageLetter(self, s: str, letter: str) -> int:\n",
    "        return math.floor(s.count(letter)/len(s)* 100)"
   ]
  },
  {
   "cell_type": "code",
   "execution_count": null,
   "metadata": {},
   "outputs": [],
   "source": [
    "#58. Length of Last Word\n",
    "class Solution:\n",
    "    def lengthOfLastWord(self, s: str) -> int:\n",
    "        s = s.rstrip()\n",
    "        length = 0\n",
    "        i = len(s) - 1\n",
    "        while i >= 0 and s[i] != ' ':\n",
    "            length += 1\n",
    "            i -= 1\n",
    "    \n",
    "        return length"
   ]
  },
  {
   "cell_type": "code",
   "execution_count": null,
   "metadata": {},
   "outputs": [],
   "source": [
    "#2586. Count the Number of Vowel Strings in Range\n",
    "class Solution:\n",
    "    def vowelStrings(self, words: List[str], left: int, right: int) -> int:\n",
    "        out = 0\n",
    "        vowels = ('a','e','i','o','u')\n",
    "        for s in words[left:right+1]:\n",
    "            if s.startswith(vowels) and s.endswith(vowels):\n",
    "                out += 1\n",
    "        return out"
   ]
  },
  {
   "cell_type": "code",
   "execution_count": null,
   "metadata": {},
   "outputs": [],
   "source": [
    "#2351. First Letter to Appear Twice\n",
    "class Solution:\n",
    "    def repeatedCharacter(self, s: str) -> str:\n",
    "        seen = set()\n",
    "        for char in s:\n",
    "            if char not in seen:\n",
    "                seen.add(char)\n",
    "            else:\n",
    "                return char "
   ]
  },
  {
   "cell_type": "code",
   "execution_count": null,
   "metadata": {},
   "outputs": [],
   "source": [
    "#2124. Check if All A's Appears Before All B's\n",
    "class Solution:\n",
    "    def checkString(self, s: str) -> bool:\n",
    "        check = 0\n",
    "        tf = 0\n",
    "        for i in s:\n",
    "            if i == \"b\":\n",
    "                check += 1\n",
    "            if check >= 1 and i == \"a\":\n",
    "                return False\n",
    "            else:\n",
    "                tf = True\n",
    "        return tf"
   ]
  },
  {
   "cell_type": "code",
   "execution_count": null,
   "metadata": {},
   "outputs": [],
   "source": [
    "#1. Two Sum\n",
    "class Solution:\n",
    "    def twoSum(self, nums: List[int], target: int) -> List[int]:\n",
    "        num_to_index = {}\n",
    "        for index, num in enumerate(nums):\n",
    "            complement = target - num\n",
    "            if complement in num_to_index:\n",
    "                return [num_to_index[complement],index]\n",
    "            num_to_index[num] = index\n",
    "        return []"
   ]
  },
  {
   "cell_type": "code",
   "execution_count": null,
   "metadata": {},
   "outputs": [],
   "source": [
    "#14. Longest Common Prefix\n",
    "class Solution:\n",
    "    def longestCommonPrefix(self, strs: List[str]) -> str:\n",
    "        if not strs:\n",
    "            return \"\"\n",
    "        prefix = strs[0]\n",
    "        for string in strs[1:]:\n",
    "            min_length = min(len(prefix), len(string))\n",
    "            common_length = 0\n",
    "            while common_length < min_length and prefix[common_length] == string[common_length]:\n",
    "                common_length += 1\n",
    "            prefix = prefix[:common_length]\n",
    "            if not prefix:\n",
    "                break\n",
    "        return prefix"
   ]
  },
  {
   "cell_type": "code",
   "execution_count": null,
   "metadata": {},
   "outputs": [],
   "source": [
    "#20. Valid Parentheses\n",
    "class Solution:\n",
    "    def isValid(self, s: str) -> bool:\n",
    "        stack = []\n",
    "        mapping = {')': '(', '}': '{', ']': '['}\n",
    "        for char in s:\n",
    "            if char in mapping:\n",
    "                top_element = stack.pop() if stack else '#'\n",
    "                if mapping[char] != top_element:\n",
    "                    return False\n",
    "            else:\n",
    "                stack.append(char)\n",
    "        return not stack"
   ]
  },
  {
   "cell_type": "code",
   "execution_count": null,
   "metadata": {},
   "outputs": [],
   "source": [
    "#21. Merge Two Sorted Lists\n",
    "class ListNode:\n",
    "    def __init__(self, val=0, next=None):\n",
    "        self.val = val\n",
    "        self.next = next\n",
    "class Solution:\n",
    "    def mergeTwoLists(self, list1: Optional[ListNode], list2: Optional[ListNode]) -> Optional[ListNode]:\n",
    "        dummy = ListNode(-1)\n",
    "        current = dummy\n",
    "        p1, p2 = list1, list2\n",
    "        while p1 and p2:\n",
    "            if p1.val <= p2.val:\n",
    "                current.next = p1\n",
    "                p1 = p1.next\n",
    "            else:\n",
    "                current.next = p2\n",
    "                p2 = p2.next\n",
    "            current = current.next\n",
    "        if p1:\n",
    "            current.next = p1\n",
    "        if p2:\n",
    "            current.next = p2\n",
    "        return dummy.next"
   ]
  },
  {
   "cell_type": "code",
   "execution_count": null,
   "metadata": {},
   "outputs": [],
   "source": [
    "#26. Remove Duplicates from Sorted Array\n",
    "class Solution:\n",
    "    def removeDuplicates(self, nums: List[int]) -> int:\n",
    "            if not nums:\n",
    "                return 0\n",
    "            slow = 0\n",
    "            for fast in range(1, len(nums)):\n",
    "                if nums[fast] != nums[slow]:\n",
    "                    slow += 1\n",
    "                    nums[slow] = nums[fast]\n",
    "            return slow + 1"
   ]
  },
  {
   "cell_type": "code",
   "execution_count": null,
   "metadata": {},
   "outputs": [],
   "source": [
    "#27. Remove Element\n",
    "class Solution:\n",
    "    def removeElement(self, nums: List[int], val: int) -> int:\n",
    "        slow = 0\n",
    "        for fast in range(len(nums)):\n",
    "            if nums[fast] != val:\n",
    "                nums[slow] = nums[fast]\n",
    "                slow += 1\n",
    "        return slow"
   ]
  },
  {
   "cell_type": "code",
   "execution_count": null,
   "metadata": {},
   "outputs": [],
   "source": [
    "#28. Find the Index of the First Occurrence in a String\n",
    "class Solution:\n",
    "    def strStr(self, haystack: str, needle: str) -> int:\n",
    "        if not needle:\n",
    "            return 0\n",
    "    \n",
    "        m = len(haystack)\n",
    "        n = len(needle)\n",
    "\n",
    "        lps = [0] * n\n",
    "        j = 0\n",
    "        i = 1\n",
    "        while i < n:\n",
    "            if needle[i] == needle[j]:\n",
    "                j += 1\n",
    "                lps[i] = j\n",
    "                i += 1\n",
    "            else:\n",
    "                if j != 0:\n",
    "                    j = lps[j - 1]\n",
    "                else:\n",
    "                    lps[i] = 0\n",
    "                    i += 1\n",
    "        i = 0  # index for haystack\n",
    "        j = 0  # index for needle\n",
    "    \n",
    "        while i < m:\n",
    "            if needle[j] == haystack[i]:\n",
    "                i += 1\n",
    "                j += 1\n",
    "        \n",
    "            if j == n:\n",
    "                return i - j\n",
    "        \n",
    "            elif i < m and needle[j] != haystack[i]:\n",
    "                if j != 0:\n",
    "                    j = lps[j - 1]\n",
    "                else:\n",
    "                    i += 1\n",
    "    \n",
    "        return -1"
   ]
  },
  {
   "cell_type": "code",
   "execution_count": null,
   "metadata": {},
   "outputs": [],
   "source": [
    "#35. Search Insert Position\n",
    "class Solution:\n",
    "    def searchInsert(self, nums: List[int], target: int) -> int:\n",
    "        left, right = 0, len(nums) - 1\n",
    "        while left <= right:\n",
    "            mid = (left + right) // 2\n",
    "            if nums[mid] == target:\n",
    "                return mid\n",
    "            elif nums[mid] < target:\n",
    "                left = mid + 1\n",
    "            else:\n",
    "                right = mid - 1\n",
    "        return left"
   ]
  },
  {
   "cell_type": "code",
   "execution_count": 1,
   "metadata": {},
   "outputs": [],
   "source": [
    "#1189. Maximum Number of Balloons\n",
    "class Solution:\n",
    "    def maxNumberOfBalloons(self, text: str) -> int:\n",
    "        counts = {}\n",
    "        for char in text:\n",
    "            if char in \"balloon\":\n",
    "                counts[char] = counts.get(char, 0) + 1\n",
    "        min_b = counts.get('b', 0)\n",
    "        min_a = counts.get('a', 0)\n",
    "        min_l = counts.get('l', 0) // 2\n",
    "        min_o = counts.get('o', 0) // 2\n",
    "        min_n = counts.get('n', 0)\n",
    "        return min(min_b, min_a, min_l, min_o, min_n)"
   ]
  },
  {
   "cell_type": "code",
   "execution_count": null,
   "metadata": {},
   "outputs": [],
   "source": [
    "#1200. Minimum Absolute Difference\n",
    "class Solution:\n",
    "    def minimumAbsDifference(self, arr: List[int]) -> List[List[int]]:\n",
    "        arr.sort()\n",
    "        min_diff = float('inf')\n",
    "        result = []\n",
    "        for i in range(1, len(arr)):\n",
    "            diff = arr[i] - arr[i-1]\n",
    "            if diff < min_diff:\n",
    "                min_diff = diff\n",
    "                result = [[arr[i-1], arr[i]]]\n",
    "            elif diff == min_diff:\n",
    "                result.append([arr[i-1], arr[i]])\n",
    "        return result"
   ]
  },
  {
   "cell_type": "code",
   "execution_count": null,
   "metadata": {},
   "outputs": [],
   "source": [
    "#1185. Day of the Week\n",
    "import datetime\n",
    "class Solution:\n",
    "    def dayOfTheWeek(self, day: int, month: int, year: int) -> str:\n",
    "        days_of_week = [\"Monday\", \"Tuesday\", \"Wednesday\", \"Thursday\", \"Friday\", \"Saturday\", \"Sunday\"]\n",
    "        return days_of_week[datetime.date(year, month, day).weekday()]    "
   ]
  },
  {
   "cell_type": "code",
   "execution_count": null,
   "metadata": {},
   "outputs": [],
   "source": [
    "#1184. Distance Between Bus Stops\n",
    "class Solution:\n",
    "    def distanceBetweenBusStops(self, distance: List[int], start: int, destination: int) -> int:\n",
    "        n = len(distance)\n",
    "        if start > destination:\n",
    "            start, destination = destination, start\n",
    "        clockwise_distance = sum(distance[start:destination])\n",
    "        counterclockwise_distance = sum(distance) - clockwise_distance\n",
    "        return min(clockwise_distance, counterclockwise_distance)\n",
    "        "
   ]
  },
  {
   "cell_type": "code",
   "execution_count": null,
   "metadata": {},
   "outputs": [],
   "source": [
    "#1175. Prime Arrangements\n",
    "class Solution:\n",
    "    def numPrimeArrangements(self, n: int) -> int:\n",
    "        MOD = 10**9 + 7\n",
    "        def is_prime(num):\n",
    "            if num <= 1:\n",
    "                return False\n",
    "            if num <= 3:\n",
    "                return True\n",
    "            if num % 2 == 0 or num % 3 == 0:\n",
    "                return False\n",
    "            i = 5\n",
    "            while i * i <= num:\n",
    "                if num % i == 0 or num % (i + 2) == 0:\n",
    "                    return False\n",
    "                i += 6\n",
    "            return True\n",
    "        def factorial(num):\n",
    "            if num == 0 or num == 1:\n",
    "                return 1\n",
    "            result = 1\n",
    "            for i in range(2, num + 1):\n",
    "                result = (result * i) % MOD\n",
    "            return result\n",
    "        prime_count = sum(1 for i in range(1, n + 1) if is_prime(i))\n",
    "        non_prime_count = n - prime_count\n",
    "        if prime_count == 0:\n",
    "            return factorial(n)\n",
    "        result = 1\n",
    "        for i in range(1, prime_count + 1):\n",
    "            result = (result * i) % MOD\n",
    "        if non_prime_count > 0:\n",
    "            result = (result * factorial(non_prime_count)) % MOD\n",
    "        return result\n"
   ]
  },
  {
   "cell_type": "code",
   "execution_count": null,
   "metadata": {},
   "outputs": [],
   "source": [
    "#1160. Find Words That Can Be Formed by Characters\n",
    "class Solution:\n",
    "    def countCharacters(self, words: List[str], chars: str) -> int:\n",
    "        return sum(len(word) for word in words if all(word.count(char) <= chars.count(char) for char in word))"
   ]
  },
  {
   "cell_type": "code",
   "execution_count": null,
   "metadata": {},
   "outputs": [],
   "source": [
    "#1154. Day of the Year\n",
    "from datetime import datetime\n",
    "class Solution:\n",
    "    def dayOfYear(self, date: str) -> int:\n",
    "        return datetime.strptime(date, '%Y-%m-%d').timetuple().tm_yday"
   ]
  },
  {
   "cell_type": "code",
   "execution_count": null,
   "metadata": {},
   "outputs": [],
   "source": [
    "#1137. N-th Tribonacci Number\n",
    "class Solution:\n",
    "    def tribonacci(self, n: int) -> int:\n",
    "        if n == 0:\n",
    "            return 0\n",
    "        elif n == 1 or n == 2:\n",
    "            return 1\n",
    "        t0, t1, t2 = 0, 1, 1\n",
    "        for i in range(3, n + 1):\n",
    "            tn = t0 + t1 + t2\n",
    "            t0, t1, t2 = t1, t2, tn\n",
    "        return t2\n",
    "            "
   ]
  },
  {
   "cell_type": "code",
   "execution_count": null,
   "metadata": {},
   "outputs": [],
   "source": [
    "#1128. Number of Equivalent Domino Pairs\n",
    "from collections import defaultdict\n",
    "class Solution:\n",
    "    def numEquivDominoPairs(self, dominoes: List[List[int]]) -> int:\n",
    "        count = defaultdict(int)\n",
    "        result = 0\n",
    "        for d in dominoes:\n",
    "            d.sort()\n",
    "            count[(d[0], d[1])] += 1\n",
    "            result += count[(d[0], d[1])] - 1\n",
    "        return result"
   ]
  },
  {
   "cell_type": "code",
   "execution_count": null,
   "metadata": {},
   "outputs": [],
   "source": [
    "#1108. Defanging an IP Address\n",
    "class Solution:\n",
    "    def defangIPaddr(self, address: str) -> str:\n",
    "        return address.replace('.', '[.]')"
   ]
  },
  {
   "cell_type": "code",
   "execution_count": null,
   "metadata": {},
   "outputs": [],
   "source": [
    "#1103. Distribute Candies to People\n",
    "class Solution:\n",
    "    def distributeCandies(self, candies: int, num_people: int) -> List[int]:\n",
    "        result = [0] * num_people\n",
    "        i = 0\n",
    "        while candies > 0:\n",
    "            result[i % num_people] += min(candies, i + 1)\n",
    "            candies -= i + 1\n",
    "            i += 1\n",
    "        return result"
   ]
  },
  {
   "cell_type": "code",
   "execution_count": null,
   "metadata": {},
   "outputs": [],
   "source": [
    "#1089. Duplicate Zeros\n",
    "class Solution:\n",
    "    def duplicateZeros(self, arr: List[int]) -> None:\n",
    "        i = 0\n",
    "        while i < len(arr):\n",
    "            if arr[i] == 0:\n",
    "                arr.insert(i + 1, 0)\n",
    "                arr.pop()\n",
    "                i += 1\n",
    "            i += 1"
   ]
  },
  {
   "cell_type": "code",
   "execution_count": null,
   "metadata": {},
   "outputs": [],
   "source": [
    "#1078. Occurrences After Bigram\n",
    "class Solution:\n",
    "    def findOcurrences(self, text: str, first: str, second: str) -> List[str]:\n",
    "        words = text.split()\n",
    "        result = []\n",
    "        for i in range(len(words) - 2):\n",
    "            if words[i] == first and words[i + 1] == second:\n",
    "                result.append(words[i + 2])\n",
    "        return result"
   ]
  },
  {
   "cell_type": "code",
   "execution_count": null,
   "metadata": {},
   "outputs": [],
   "source": [
    "#1071. Greatest Common Divisor of Strings\n",
    "from math import gcd\n",
    "class Solution:\n",
    "    def gcdOfStrings(self, str1: str, str2: str) -> str:\n",
    "        len1, len2 = len(str1), len(str2)\n",
    "        g = gcd(len1, len2)\n",
    "        return str1[:g] if str1[:g] * (len2 // g) == str2 and str2[:g] * (len1 // g) == str1 else \"\""
   ]
  },
  {
   "cell_type": "code",
   "execution_count": null,
   "metadata": {},
   "outputs": [],
   "source": [
    "#1051. Height Checker\n",
    "class Solution:\n",
    "    def heightChecker(self, heights: List[int]) -> int:\n",
    "        expected = sorted(heights)\n",
    "        return sum(1 for i in range(len(heights)) if heights[i] != expected[i])"
   ]
  },
  {
   "cell_type": "code",
   "execution_count": null,
   "metadata": {},
   "outputs": [],
   "source": [
    "#1047. Remove All Adjacent Duplicates In String\n",
    "class Solution:\n",
    "    def removeDuplicates(self, s: str) -> str:\n",
    "        stack = []\n",
    "        for char in s:\n",
    "            if stack and stack[-1] == char:\n",
    "                stack.pop()\n",
    "            else:\n",
    "                stack.append(char)\n",
    "        return ''.join(stack)"
   ]
  },
  {
   "cell_type": "code",
   "execution_count": null,
   "metadata": {},
   "outputs": [],
   "source": [
    "#1037. Valid Boomerang\n",
    "class Solution:\n",
    "    def isBoomerang(self, points: List[List[int]]) -> bool:\n",
    "        return (points[0][0] - points[1][0]) * (points[0][1] - points[2][1]) != (points[0][0] - points[2][0]) * (points[0][1] - points[1][1])"
   ]
  },
  {
   "cell_type": "code",
   "execution_count": null,
   "metadata": {},
   "outputs": [],
   "source": [
    "#1030. Matrix Cells in Distance Order\n",
    "class Solution:\n",
    "    def allCellsDistOrder(self, rows: int, cols: int, rCenter: int, cCenter: int) -> List[List[int]]:\n",
    "        return sorted([(r, c) for r in range(rows) for c in range(cols)], key=lambda x: abs(x[0] - rCenter) + abs(x[1] - cCenter))"
   ]
  },
  {
   "cell_type": "code",
   "execution_count": null,
   "metadata": {},
   "outputs": [],
   "source": [
    "#1025. Divisor Game\n",
    "class Solution:\n",
    "    def divisorGame(self, n: int) -> bool:\n",
    "        return n % 2 == 0"
   ]
  },
  {
   "cell_type": "code",
   "execution_count": null,
   "metadata": {},
   "outputs": [],
   "source": [
    "#1021. Remove Outermost Parentheses\n",
    "class Solution:\n",
    "    def removeOuterParentheses(self, s: str) -> str:\n",
    "        result = []\n",
    "        opened = 0\n",
    "        for char in s:\n",
    "            if char == '(':\n",
    "                if opened > 0:\n",
    "                    result.append(char)\n",
    "                opened += 1\n",
    "            else:\n",
    "                opened -= 1\n",
    "                if opened > 0:\n",
    "                    result.append(char)\n",
    "        return ''.join(result)  "
   ]
  },
  {
   "cell_type": "code",
   "execution_count": null,
   "metadata": {},
   "outputs": [],
   "source": [
    "#1018. Binary Prefix Divisible By 5\n",
    "class Solution:\n",
    "    def prefixesDivBy5(self, nums: List[int]) -> List[bool]:\n",
    "        result = []\n",
    "        current_num = 0\n",
    "        for num in nums:\n",
    "            current_num = (current_num * 2 + num) % 5\n",
    "            result.append(current_num == 0)    \n",
    "        return result"
   ]
  },
  {
   "cell_type": "code",
   "execution_count": null,
   "metadata": {},
   "outputs": [],
   "source": [
    "#1013. Partition Array Into Three Parts With Equal Sum\n",
    "class Solution:\n",
    "    def canThreePartsEqualSum(self, arr: List[int]) -> bool:\n",
    "        total_sum = sum(arr)\n",
    "        if total_sum % 3 != 0:\n",
    "            return False\n",
    "        target_sum = total_sum // 3\n",
    "        current_sum = 0\n",
    "        count = 0\n",
    "        for num in arr:\n",
    "            current_sum += num\n",
    "            if current_sum == target_sum:\n",
    "                count += 1\n",
    "                current_sum = 0\n",
    "        return count >= 3"
   ]
  },
  {
   "cell_type": "code",
   "execution_count": null,
   "metadata": {},
   "outputs": [],
   "source": [
    "#1009. Complement of Base 10 Integer\n",
    "class Solution:\n",
    "    def bitwiseComplement(self, n: int) -> int:\n",
    "        return int(''.join('0' if bit == '1' else '1' for bit in bin(n)[2:]), 2)"
   ]
  },
  {
   "cell_type": "code",
   "execution_count": null,
   "metadata": {},
   "outputs": [],
   "source": [
    "#1005. Maximize Sum Of Array After K Negations\n",
    "class Solution:\n",
    "    def largestSumAfterKNegations(self, nums: List[int], k: int) -> int:\n",
    "        nums.sort()\n",
    "        i = 0\n",
    "        while k > 0 and i < len(nums):\n",
    "            if nums[i] < 0:\n",
    "                nums[i] = -nums[i]\n",
    "                k -= 1\n",
    "                i += 1\n",
    "            else:\n",
    "                break\n",
    "        if k % 2 != 0:\n",
    "            nums.sort()\n",
    "            nums[0] = -nums[0] \n",
    "        return sum(nums)"
   ]
  },
  {
   "cell_type": "code",
   "execution_count": null,
   "metadata": {},
   "outputs": [],
   "source": [
    "#1002. Find Common Characters\n",
    "from collections import Counter\n",
    "class Solution:\n",
    "    def commonChars(self, words: List[str]) -> List[str]:\n",
    "        if not words:\n",
    "            return []\n",
    "        common_chars = Counter(words[0])       \n",
    "        for word in words[1:]:\n",
    "            word_counter = Counter(word)\n",
    "            common_chars &= word_counter      \n",
    "        return list(common_chars.elements())       "
   ]
  },
  {
   "cell_type": "code",
   "execution_count": null,
   "metadata": {},
   "outputs": [],
   "source": [
    "#999. Available Captures for Rook\n",
    "class Solution:\n",
    "    def numRookCaptures(self, board: List[List[str]]) -> int:\n",
    "        directions = [(0, 1), (1, 0), (0, -1), (-1, 0)]\n",
    "        n = 8\n",
    "        rook_pos = None\n",
    "        for i in range(n):\n",
    "            for j in range(n):\n",
    "                if board[i][j] == 'R':\n",
    "                    rook_pos = (i, j)\n",
    "                    break\n",
    "            if rook_pos:\n",
    "                break\n",
    "        def is_valid(x, y):\n",
    "            return 0 <= x < n and 0 <= y < n\n",
    "        def count_captures(x, y, dx, dy):\n",
    "            captures = 0\n",
    "            while is_valid(x, y):\n",
    "                x += dx\n",
    "                y += dy\n",
    "                if not is_valid(x, y):\n",
    "                    break\n",
    "                if board[x][y] == 'B':\n",
    "                    break\n",
    "                if board[x][y] == 'p':\n",
    "                    captures += 1\n",
    "                    break\n",
    "            return captures\n",
    "        x, y = rook_pos\n",
    "        captures = 0\n",
    "        for dx, dy in directions:\n",
    "            captures += count_captures(x, y, dx, dy)\n",
    "        return captures"
   ]
  },
  {
   "cell_type": "code",
   "execution_count": null,
   "metadata": {},
   "outputs": [],
   "source": [
    "#997. Find the Town Judge\n",
    "class Solution:\n",
    "    def findJudge(self, n: int, trust: List[List[int]]) -> int:\n",
    "        trust_count = [0] * (n + 1)\n",
    "        for a, b in trust:\n",
    "            trust_count[a] -= 1\n",
    "            trust_count[b] += 1\n",
    "            \n",
    "        for i in range(1, n + 1):\n",
    "            if trust_count[i] == n - 1:\n",
    "                return i\n",
    "        \n",
    "        return -1       "
   ]
  },
  {
   "cell_type": "code",
   "execution_count": null,
   "metadata": {},
   "outputs": [],
   "source": [
    "#977. Squares of a Sorted Array\n",
    "class Solution:\n",
    "    def sortedSquares(self, nums: List[int]) -> List[int]:\n",
    "        return sorted(x*x for x in nums)"
   ]
  },
  {
   "cell_type": "code",
   "execution_count": null,
   "metadata": {},
   "outputs": [],
   "source": [
    "#976. Largest Perimeter Triangle\n",
    "class Solution:\n",
    "    def largestPerimeter(self, nums: List[int]) -> int:\n",
    "        nums.sort(reverse=True)\n",
    "        for i in range(len(nums) - 2):\n",
    "            if nums[i] < nums[i + 1] + nums[i + 2]:\n",
    "                return nums[i] + nums[i + 1] + nums[i + 2]\n",
    "        return 0"
   ]
  },
  {
   "cell_type": "code",
   "execution_count": null,
   "metadata": {},
   "outputs": [],
   "source": [
    "#961. N-Repeated Element in Size 2N Array\n",
    "class Solution:\n",
    "    def repeatedNTimes(self, nums: List[int]) -> int:\n",
    "        seen = set()\n",
    "        for num in nums:\n",
    "            if num in seen:\n",
    "                return num\n",
    "            seen.add(num)\n",
    "        return -1"
   ]
  },
  {
   "cell_type": "code",
   "execution_count": null,
   "metadata": {},
   "outputs": [],
   "source": [
    "#953. Verifying an Alien Dictionary\n",
    "class Solution:\n",
    "    def isAlienSorted(self, words: List[str], order: str) -> bool:\n",
    "        alien_order = {char: idx for idx, char in enumerate(order)}\n",
    "        for i in range(len(words) - 1):\n",
    "            word1 = words[i]\n",
    "            word2 = words[i + 1]\n",
    "            for j in range(min(len(word1), len(word2))):\n",
    "                if word1[j] != word2[j]:\n",
    "                    if alien_order[word1[j]] > alien_order[word2[j]]:\n",
    "                        return False\n",
    "                    break\n",
    "            else:\n",
    "                if len(word1) > len(word2):\n",
    "                    return False\n",
    "        return True   "
   ]
  },
  {
   "cell_type": "code",
   "execution_count": null,
   "metadata": {},
   "outputs": [],
   "source": [
    "#944. Delete Columns to Make Sorted\n",
    "class Solution:\n",
    "    def minDeletionSize(self, strs: List[str]) -> int:\n",
    "        n = len(strs)\n",
    "        m = len(strs[0])\n",
    "        count = 0\n",
    "        for col in range(m):\n",
    "            for row in range(1, n):\n",
    "                if strs[row][col] < strs[row - 1][col]:\n",
    "                    count += 1\n",
    "                    break\n",
    "        return count       "
   ]
  },
  {
   "cell_type": "code",
   "execution_count": null,
   "metadata": {},
   "outputs": [],
   "source": [
    "#942. DI String Match\n",
    "class Solution:\n",
    "    def diStringMatch(self, s: str) -> List[int]:\n",
    "        n = len(s)\n",
    "        left, right = 0, n\n",
    "        result = []\n",
    "        for char in s:\n",
    "            if char == 'I':\n",
    "                result.append(left)\n",
    "                left += 1\n",
    "            elif char == 'D':\n",
    "                result.append(right)\n",
    "                right -= 1\n",
    "        result.append(left) \n",
    "        return result"
   ]
  },
  {
   "cell_type": "code",
   "execution_count": null,
   "metadata": {},
   "outputs": [],
   "source": [
    "#941. Valid Mountain Array\n",
    "class Solution:\n",
    "    def validMountainArray(self, arr: List[int]) -> bool:\n",
    "        n = len(arr)\n",
    "        if n < 3:\n",
    "            return False\n",
    "        i = 0\n",
    "        while i < n - 1 and arr[i] < arr[i + 1]:\n",
    "            i += 1\n",
    "        if i == 0 or i == n - 1:\n",
    "            return False\n",
    "        while i < n - 1 and arr[i] > arr[i + 1]:\n",
    "            i += 1\n",
    "        return i == n - 1"
   ]
  },
  {
   "cell_type": "code",
   "execution_count": null,
   "metadata": {},
   "outputs": [],
   "source": [
    "#933. Number of Recent Calls\n",
    "class RecentCounter:\n",
    "    def __init__(self):\n",
    "        self.requests = []\n",
    "\n",
    "    def ping(self, t: int) -> int:\n",
    "        self.requests.append(t)\n",
    "        while self.requests[0] < t - 3000:\n",
    "            self.requests.pop(0)\n",
    "        return len(self.requests)"
   ]
  },
  {
   "cell_type": "code",
   "execution_count": null,
   "metadata": {},
   "outputs": [],
   "source": [
    "#929. Unique Email Addresses\n",
    "class Solution:\n",
    "    def numUniqueEmails(self, emails: List[str]) -> int:\n",
    "        seen_emails = set()\n",
    "        for email in emails:\n",
    "            local_name, domain_name = email.split('@')\n",
    "            local_name = local_name.split('+')[0].replace('.', '')\n",
    "            normalized_email = local_name + '@' + domain_name\n",
    "            seen_emails.add(normalized_email)\n",
    "        return len(seen_emails)    "
   ]
  },
  {
   "cell_type": "code",
   "execution_count": null,
   "metadata": {},
   "outputs": [],
   "source": [
    "#925. Long Pressed Name\n",
    "class Solution:\n",
    "    def isLongPressedName(self, name: str, typed: str) -> bool:\n",
    "        i, j = 0, 0\n",
    "        while j < len(typed):\n",
    "            if i < len(name) and name[i] == typed[j]:\n",
    "                i += 1\n",
    "                j += 1\n",
    "            elif j > 0 and typed[j] == typed[j - 1]:\n",
    "                j += 1\n",
    "            else:\n",
    "                return False\n",
    "        return i == len(name)       "
   ]
  },
  {
   "cell_type": "code",
   "execution_count": null,
   "metadata": {},
   "outputs": [],
   "source": [
    "#922. Sort Array By Parity II\n",
    "class Solution:\n",
    "    def sortArrayByParityII(self, nums: List[int]) -> List[int]:\n",
    "        n = len(nums)\n",
    "        i, j = 0, 1\n",
    "        while i < n and j < n:\n",
    "            while i < n and nums[i] % 2 == 0:\n",
    "                i += 2\n",
    "            while j < n and nums[j] % 2 == 1:\n",
    "                j += 2\n",
    "            if i < n and j < n:\n",
    "                nums[i], nums[j] = nums[j], nums[i]\n",
    "        return nums"
   ]
  },
  {
   "cell_type": "code",
   "execution_count": null,
   "metadata": {},
   "outputs": [],
   "source": [
    "#917. Reverse Only Letters\n",
    "class Solution:\n",
    "    def reverseOnlyLetters(self, s: str) -> str:\n",
    "        s_list = list(s)\n",
    "        left, right = 0, len(s_list) - 1\n",
    "        while left < right:\n",
    "            if not s_list[left].isalpha():\n",
    "                left += 1\n",
    "            elif not s_list[right].isalpha():\n",
    "                right -= 1\n",
    "            else:\n",
    "                s_list[left], s_list[right] = s_list[right], s_list[left]\n",
    "                left += 1\n",
    "                right -= 1\n",
    "        return ''.join(s_list)"
   ]
  },
  {
   "cell_type": "code",
   "execution_count": null,
   "metadata": {},
   "outputs": [],
   "source": [
    "#914. X of a Kind in a Deck of Cards\n",
    "from collections import Counter\n",
    "class Solution:\n",
    "    def hasGroupsSizeX(self, deck: List[int]) -> bool:\n",
    "        count = Counter(deck)\n",
    "        min_count = min(count.values())\n",
    "        if min_count < 2:\n",
    "            return False\n",
    "        for x in range(2, min_count + 1):\n",
    "            if all(val % x == 0 for val in count.values()):\n",
    "                return True\n",
    "        return False"
   ]
  },
  {
   "cell_type": "code",
   "execution_count": null,
   "metadata": {},
   "outputs": [],
   "source": [
    "#905. Sort Array By Parity\n",
    "class Solution:\n",
    "    def sortArrayByParity(self, nums: List[int]) -> List[int]:\n",
    "        return sorted(nums, key=lambda x: x % 2)"
   ]
  },
  {
   "cell_type": "code",
   "execution_count": null,
   "metadata": {},
   "outputs": [],
   "source": [
    "#896. Monotonic Array\n",
    "class Solution:\n",
    "    def isMonotonic(self, nums: List[int]) -> bool:\n",
    "        increasing = True\n",
    "        decreasing = True\n",
    "        for i in range(1, len(nums)):\n",
    "            if nums[i] < nums[i-1]:\n",
    "                increasing = False\n",
    "            if nums[i] > nums[i-1]:\n",
    "                decreasing = False     \n",
    "        return increasing or decreasing"
   ]
  },
  {
   "cell_type": "code",
   "execution_count": null,
   "metadata": {},
   "outputs": [],
   "source": [
    "#892. Surface Area of 3D Shapes\n",
    "class Solution:\n",
    "    def surfaceArea(self, grid: List[List[int]]) -> int:\n",
    "        n = len(grid)\n",
    "        total_area = 0\n",
    "        \n",
    "        for i in range(n):\n",
    "            for j in range(n):\n",
    "                if grid[i][j] > 0:\n",
    "                    total_area += 4 * grid[i][j] + 2\n",
    "                    if i > 0:\n",
    "                        total_area -= min(grid[i][j], grid[i-1][j])\n",
    "                    if i < n - 1:\n",
    "                        total_area -= min(grid[i][j], grid[i+1][j])\n",
    "                    if j > 0:\n",
    "                        total_area -= min(grid[i][j], grid[i][j-1])\n",
    "                    if j < n - 1:\n",
    "                        total_area -= min(grid[i][j], grid[i][j+1])\n",
    "        return total_area"
   ]
  },
  {
   "cell_type": "code",
   "execution_count": null,
   "metadata": {},
   "outputs": [],
   "source": [
    "#888. Fair Candy Swap\n",
    "class Solution:\n",
    "    def fairCandySwap(self, aliceSizes: List[int], bobSizes: List[int]) -> List[int]:\n",
    "        sum_alice = sum(aliceSizes)\n",
    "        sum_bob = sum(bobSizes)\n",
    "        set_bob = set(bobSizes)        \n",
    "        for x in aliceSizes:\n",
    "            y = (sum_bob - sum_alice + 2 * x) // 2\n",
    "            if y in set_bob:\n",
    "                return [x, y]     "
   ]
  },
  {
   "cell_type": "code",
   "execution_count": null,
   "metadata": {},
   "outputs": [],
   "source": [
    "#884. Uncommon Words from Two Sentences\n",
    "from collections import Counter\n",
    "class Solution:\n",
    "    def uncommonFromSentences(self, s1: str, s2: str) -> List[str]:\n",
    "        words = s1.split() + s2.split()\n",
    "        count = Counter(words)\n",
    "        return [word for word in count if count[word] == 1]"
   ]
  },
  {
   "cell_type": "code",
   "execution_count": null,
   "metadata": {},
   "outputs": [],
   "source": [
    "#883. Projection Area of 3D Shapes\n",
    "class Solution:\n",
    "    def projectionArea(self, grid: List[List[int]]) -> int:\n",
    "        n = len(grid)\n",
    "        xy_projection = sum(1 for i in range(n) for j in range(n) if grid[i][j] > 0)\n",
    "        yz_projection = sum(max(grid[i][j] for i in range(n)) for j in range(n))\n",
    "        zx_projection = sum(max(grid[i][j] for j in range(n)) for i in range(n))\n",
    "        return xy_projection + yz_projection + zx_projection"
   ]
  },
  {
   "cell_type": "code",
   "execution_count": null,
   "metadata": {},
   "outputs": [],
   "source": [
    "#868. Binary Gap\n",
    "class Solution:\n",
    "    def binaryGap(self, n: int) -> int:\n",
    "        max_gap = 0\n",
    "        prev = None\n",
    "        current_pos = 0\n",
    "        while n > 0:\n",
    "            if n & 1:\n",
    "                if prev is not None:\n",
    "                    max_gap = max(max_gap, current_pos - prev)\n",
    "                prev = current_pos\n",
    "            current_pos += 1\n",
    "            n >>= 1\n",
    "        return max_gap"
   ]
  },
  {
   "cell_type": "code",
   "execution_count": null,
   "metadata": {},
   "outputs": [],
   "source": [
    "#867. Transpose Matrix\n",
    "class Solution:\n",
    "    def transpose(self, matrix: List[List[int]]) -> List[List[int]]:\n",
    "        return [[matrix[j][i] for j in range(len(matrix))] for i in range(len(matrix[0]))]"
   ]
  },
  {
   "cell_type": "code",
   "execution_count": null,
   "metadata": {},
   "outputs": [],
   "source": [
    "#860. Lemonade Change\n",
    "class Solution:\n",
    "    def lemonadeChange(self, bills: List[int]) -> bool:\n",
    "        five = ten = 0\n",
    "        for bill in bills:\n",
    "            if bill == 5:\n",
    "                five += 1\n",
    "            elif bill == 10:\n",
    "                if five == 0:\n",
    "                    return False\n",
    "                five -= 1\n",
    "                ten += 1\n",
    "            elif bill == 20:\n",
    "                if ten > 0 and five > 0:\n",
    "                    ten -= 1\n",
    "                    five -= 1\n",
    "                elif five >= 3:\n",
    "                    five -= 3\n",
    "                else:\n",
    "                    return False\n",
    "        return True"
   ]
  },
  {
   "cell_type": "code",
   "execution_count": null,
   "metadata": {},
   "outputs": [],
   "source": [
    "#844. Backspace String Compare\n",
    "class Solution:\n",
    "    def backspaceCompare(self, s: str, t: str) -> bool:\n",
    "        def build_string(s):\n",
    "            result = []\n",
    "            for char in s:\n",
    "                if char != '#':\n",
    "                    result.append(char)\n",
    "                elif result:\n",
    "                    result.pop()\n",
    "            return ''.join(result)\n",
    "        return build_string(s) == build_string(t)"
   ]
  },
  {
   "cell_type": "code",
   "execution_count": null,
   "metadata": {},
   "outputs": [],
   "source": [
    "#836. Rectangle Overlap\n",
    "class Solution:\n",
    "    def isRectangleOverlap(self, rec1: List[int], rec2: List[int]) -> bool:\n",
    "        x1, y1, x2, y2 = rec1\n",
    "        a1, b1, a2, b2 = rec2\n",
    "        if a1 >= x2 or a2 <= x1:\n",
    "            return False\n",
    "        if b1 >= y2 or b2 <= y1:\n",
    "            return False\n",
    "        return True"
   ]
  },
  {
   "cell_type": "code",
   "execution_count": null,
   "metadata": {},
   "outputs": [],
   "source": [
    "#832. Flipping an Image\n",
    "class Solution:\n",
    "    def flipAndInvertImage(self, image: List[List[int]]) -> List[List[int]]:\n",
    "        n = len(image)\n",
    "        result = []\n",
    "        for row in image:\n",
    "            flipped = row[::-1]\n",
    "            inverted = [1 - pixel for pixel in flipped]\n",
    "            result.append(inverted)\n",
    "        return result"
   ]
  },
  {
   "cell_type": "code",
   "execution_count": null,
   "metadata": {},
   "outputs": [],
   "source": [
    "#830. Positions of Large Groups\n",
    "class Solution:\n",
    "    def largeGroupPositions(self, s: str) -> List[List[int]]:\n",
    "        result = []\n",
    "        n = len(s)\n",
    "        start = 0\n",
    "        while start < n:\n",
    "            end = start\n",
    "            while end < n and s[end] == s[start]:\n",
    "                end += 1\n",
    "            if end - start >= 3:\n",
    "                result.append([start, end - 1])\n",
    "            start = end\n",
    "        return result"
   ]
  },
  {
   "cell_type": "code",
   "execution_count": null,
   "metadata": {},
   "outputs": [],
   "source": [
    "#824. Goat Latin\n",
    "class Solution:\n",
    "    def toGoatLatin(self, sentence: str) -> str:\n",
    "        vowels = set('aeiouAEIOU')\n",
    "        words = sentence.split()\n",
    "        result = []\n",
    "        for i, word in enumerate(words):\n",
    "            if word[0] in vowels:\n",
    "                new_word = word + 'ma'\n",
    "            else:\n",
    "                new_word = word[1:] + word[0] + 'ma'\n",
    "            new_word += 'a' * (i + 1)\n",
    "            result.append(new_word)\n",
    "        return ' '.join(result)"
   ]
  },
  {
   "cell_type": "code",
   "execution_count": null,
   "metadata": {},
   "outputs": [],
   "source": [
    "#821. Shortest Distance to a Character\n",
    "class Solution:\n",
    "    def shortestToChar(self, s: str, c: str) -> List[int]:\n",
    "        n = len(s)\n",
    "        result = [float('inf')] * n\n",
    "        pos = float('-inf')\n",
    "        for i in range(n):\n",
    "            if s[i] == c:\n",
    "                pos = i\n",
    "            result[i] = min(result[i], abs(i - pos))\n",
    "        pos = float('inf')\n",
    "        for i in range(n - 1, -1, -1):\n",
    "            if s[i] == c:\n",
    "                pos = i\n",
    "            result[i] = min(result[i], abs(i - pos))\n",
    "        return result"
   ]
  },
  {
   "cell_type": "code",
   "execution_count": null,
   "metadata": {},
   "outputs": [],
   "source": [
    "#819. Most Common Word\n",
    "import re\n",
    "from collections import defaultdict\n",
    "class Solution:\n",
    "    def mostCommonWord(self, paragraph: str, banned: List[str]) -> str:\n",
    "        words = re.findall(r'\\w+', paragraph.lower())\n",
    "        banned = set(banned)\n",
    "        word_count = defaultdict(int)\n",
    "        for word in words:\n",
    "            if word not in banned:\n",
    "                word_count[word] += 1\n",
    "        return max(word_count, key=word_count.get)"
   ]
  },
  {
   "cell_type": "code",
   "execution_count": null,
   "metadata": {},
   "outputs": [],
   "source": [
    "#812. Largest Triangle Area\n",
    "class Solution:\n",
    "    def largestTriangleArea(self, points: List[List[int]]) -> float:\n",
    "        def calculate_area(x1, y1, x2, y2, x3, y3):\n",
    "            return 0.5 * abs(x1*(y2-y3) + x2*(y3-y1) + x3*(y1-y2))\n",
    "        n = len(points)\n",
    "        max_area = 0.0\n",
    "        for i in range(n):\n",
    "            for j in range(i + 1, n):\n",
    "                for k in range(j + 1, n):\n",
    "                    x1, y1 = points[i]\n",
    "                    x2, y2 = points[j]\n",
    "                    x3, y3 = points[k]\n",
    "                    area = calculate_area(x1, y1, x2, y2, x3, y3)\n",
    "                    max_area = max(max_area, area)\n",
    "        return max_area"
   ]
  },
  {
   "cell_type": "code",
   "execution_count": null,
   "metadata": {},
   "outputs": [],
   "source": [
    "#806. Number of Lines To Write String\n",
    "class Solution:\n",
    "    def numberOfLines(self, widths: List[int], s: str) -> List[int]:\n",
    "        lines = 1\n",
    "        current_width = 0\n",
    "        for char in s:\n",
    "            char_width = widths[ord(char) - ord('a')]\n",
    "            if current_width + char_width > 100:\n",
    "                lines += 1\n",
    "                current_width = char_width\n",
    "            else:\n",
    "                current_width += char_width\n",
    "        return [lines, current_width]"
   ]
  },
  {
   "cell_type": "code",
   "execution_count": null,
   "metadata": {},
   "outputs": [],
   "source": [
    "#804. Unique Morse Code Words\n",
    "class Solution:\n",
    "    def uniqueMorseRepresentations(self, words: List[str]) -> int:\n",
    "        morse_dict = {'a': \".-\", 'b': \"-...\", 'c': \"-.-.\", 'd': \"-..\", 'e': \".\", 'f': \"..-.\",\n",
    "        'g': \"--.\", 'h': \"....\", 'i': \"..\", 'j': \".---\", 'k': \"-.-\", 'l': \".-..\",\n",
    "        'm': \"--\", 'n': \"-.\", 'o': \"---\", 'p': \".--.\", 'q': \"--.-\", 'r': \".-.\",\n",
    "        's': \"...\", 't': \"-\", 'u': \"..-\", 'v': \"...-\", 'w': \".--\", 'x': \"-..-\",\n",
    "        'y': \"-.--\", 'z': \"--..\"}\n",
    "        transformations = set()\n",
    "        for word in words:\n",
    "            morse_code = ''.join(morse_dict[ch] for ch in word)\n",
    "            transformations.add(morse_code)\n",
    "        return len(transformations)"
   ]
  },
  {
   "cell_type": "code",
   "execution_count": null,
   "metadata": {},
   "outputs": [],
   "source": [
    "#796. Rotate String\n",
    "class Solution:\n",
    "    def rotateString(self, s: str, goal: str) -> bool:\n",
    "        if len(s) != len(goal):\n",
    "            return False\n",
    "        double_s = s + s\n",
    "        return goal in double_s"
   ]
  },
  {
   "cell_type": "code",
   "execution_count": null,
   "metadata": {},
   "outputs": [],
   "source": [
    "#771. Jewels and Stones\n",
    "class Solution:\n",
    "    def numJewelsInStones(self, jewels: str, stones: str) -> int:\n",
    "        jewel_set = set(jewels)\n",
    "        return sum(1 for stone in stones if stone in jewel_set)"
   ]
  },
  {
   "cell_type": "code",
   "execution_count": null,
   "metadata": {},
   "outputs": [],
   "source": [
    "#766. Toeplitz Matrix\n",
    "class Solution:\n",
    "    def isToeplitzMatrix(self, matrix: List[List[int]]) -> bool:\n",
    "        m, n = len(matrix), len(matrix[0])\n",
    "        for i in range(m - 1):\n",
    "            for j in range(n - 1):\n",
    "                if matrix[i][j] != matrix[i + 1][j + 1]:\n",
    "                    return False\n",
    "        return True"
   ]
  },
  {
   "cell_type": "code",
   "execution_count": null,
   "metadata": {},
   "outputs": [],
   "source": [
    "#762. Prime Number of Set Bits in Binary Representation\n",
    "class Solution:\n",
    "    def countPrimeSetBits(self, left: int, right: int) -> int:\n",
    "        def is_prime(num):\n",
    "            if num <= 1:\n",
    "                return False\n",
    "            if num == 2:\n",
    "                return True\n",
    "            if num % 2 == 0:\n",
    "                return False\n",
    "            for i in range(3, int(num**0.5) + 1, 2):\n",
    "                if num % i == 0:\n",
    "                    return False\n",
    "            return True\n",
    "        def count_set_bits(num):\n",
    "            return bin(num).count('1')\n",
    "        prime_set_bits_count = 0\n",
    "        for num in range(left, right + 1):\n",
    "            set_bits = count_set_bits(num)\n",
    "            if is_prime(set_bits):\n",
    "                prime_set_bits_count += 1\n",
    "        return prime_set_bits_count"
   ]
  },
  {
   "cell_type": "code",
   "execution_count": null,
   "metadata": {},
   "outputs": [],
   "source": [
    "#748. Shortest Completing Word\n",
    "import collections\n",
    "class Solution:\n",
    "    def shortestCompletingWord(self, licensePlate: str, words: List[str]) -> str:\n",
    "        licensePlate = ''.join(filter(str.isalpha, licensePlate.lower()))\n",
    "        lp_count = collections.Counter(licensePlate)\n",
    "        shortest_word = None\n",
    "        shortest_length = float('inf')\n",
    "        for word in words:\n",
    "            word_count = collections.Counter(word)\n",
    "            if all(word_count[char] >= lp_count[char] for char in lp_count):\n",
    "                if len(word) < shortest_length:\n",
    "                    shortest_word = word\n",
    "                    shortest_length = len(word)\n",
    "        return shortest_word"
   ]
  },
  {
   "cell_type": "code",
   "execution_count": null,
   "metadata": {},
   "outputs": [],
   "source": [
    "#747. Largest Number At Least Twice of Others\n",
    "class Solution:\n",
    "    def dominantIndex(self, nums: List[int]) -> int:\n",
    "        max_num = max(nums)\n",
    "        max_index = nums.index(max_num)\n",
    "        for i, num in enumerate(nums):\n",
    "            if i != max_index and max_num < 2 * num:\n",
    "                return -1\n",
    "        return max_index"
   ]
  },
  {
   "cell_type": "code",
   "execution_count": null,
   "metadata": {},
   "outputs": [],
   "source": [
    "#746. Min Cost Climbing Stairs\n",
    "class Solution:\n",
    "    def minCostClimbingStairs(self, cost: List[int]) -> int:\n",
    "        n = len(cost)\n",
    "        dp = [0] * n\n",
    "        dp[0] = cost[0]\n",
    "        dp[1] = cost[1]\n",
    "        for i in range(2, n):\n",
    "            dp[i] = cost[i] + min(dp[i-1], dp[i-2])\n",
    "        return min(dp[-1], dp[-2])"
   ]
  },
  {
   "cell_type": "code",
   "execution_count": null,
   "metadata": {},
   "outputs": [],
   "source": [
    "#744. Find Smallest Letter Greater Than Target\n",
    "class Solution:\n",
    "    def nextGreatestLetter(self, letters: List[str], target: str) -> str:\n",
    "        low, high = 0, len(letters) - 1\n",
    "    \n",
    "        while low <= high:\n",
    "            mid = (low + high) // 2\n",
    "            if letters[mid] <= target:\n",
    "                low = mid + 1\n",
    "            else:\n",
    "                high = mid - 1\n",
    "        return letters[low % len(letters)]"
   ]
  },
  {
   "cell_type": "code",
   "execution_count": null,
   "metadata": {},
   "outputs": [],
   "source": [
    "#724. Find Pivot Index\n",
    "class Solution:\n",
    "    def pivotIndex(self, nums: List[int]) -> int:\n",
    "        total_sum = sum(nums)\n",
    "        left_sum = 0\n",
    "        for i in range(len(nums)):\n",
    "            if left_sum == total_sum - left_sum - nums[i]:\n",
    "                return i\n",
    "            left_sum += nums[i]\n",
    "        return -1"
   ]
  },
  {
   "cell_type": "code",
   "execution_count": null,
   "metadata": {},
   "outputs": [],
   "source": [
    "#717. 1-bit and 2-bit Characters\n",
    "class Solution:\n",
    "    def isOneBitCharacter(self, bits: List[int]) -> bool:\n",
    "        i = 0\n",
    "        while i < len(bits):\n",
    "            if bits[i] == 1:\n",
    "                i += 2\n",
    "            else:\n",
    "                if i == len(bits) - 1:\n",
    "                    return True\n",
    "                i += 1  # Move to the next character\n",
    "        return False"
   ]
  },
  {
   "cell_type": "code",
   "execution_count": null,
   "metadata": {},
   "outputs": [],
   "source": [
    "#709. To Lower Case\n",
    "class Solution:\n",
    "    def toLowerCase(self, s: str) -> str:\n",
    "        return s.lower()"
   ]
  },
  {
   "cell_type": "code",
   "execution_count": null,
   "metadata": {},
   "outputs": [],
   "source": [
    "#705. Design HashSet\n",
    "class MyHashSet:\n",
    "    def __init__(self):\n",
    "        self.bucket_size = 1000\n",
    "        self.buckets = [[] for _ in range(self.bucket_size)]\n",
    "    def _hash(self, key: int) -> int:\n",
    "        return key % self.bucket_size\n",
    "    def add(self, key: int) -> None:\n",
    "        hash_key = self._hash(key)\n",
    "        if key not in self.buckets[hash_key]:\n",
    "            self.buckets[hash_key].append(key)\n",
    "    def remove(self, key: int) -> None:\n",
    "        hash_key = self._hash(key)\n",
    "        if key in self.buckets[hash_key]:\n",
    "            self.buckets[hash_key].remove(key)\n",
    "    def contains(self, key: int) -> bool:\n",
    "        hash_key = self._hash(key)\n",
    "        return key in self.buckets[hash_key]"
   ]
  },
  {
   "cell_type": "code",
   "execution_count": null,
   "metadata": {},
   "outputs": [],
   "source": [
    "#704. Binary Search\n",
    "class Solution:\n",
    "    def search(self, nums: List[int], target: int) -> int:\n",
    "        left, right = 0, len(nums) - 1\n",
    "        while left <= right:\n",
    "            mid = left + (right - left) // 2\n",
    "            if nums[mid] == target:\n",
    "                return mid\n",
    "            elif nums[mid] < target:\n",
    "                left = mid + 1\n",
    "            else:\n",
    "                right = mid - 1\n",
    "        return -1"
   ]
  },
  {
   "cell_type": "code",
   "execution_count": null,
   "metadata": {},
   "outputs": [],
   "source": [
    "#703. Kth Largest Element in a Stream\n",
    "class KthLargest:\n",
    "    def __init__(self, k: int, nums: List[int]):\n",
    "        self.k = k\n",
    "        self.heap = []\n",
    "        for num in nums:\n",
    "            self.add(num)\n",
    "    def add(self, val: int) -> int:\n",
    "        heapq.heappush(self.heap, val)\n",
    "        if len(self.heap) > self.k:\n",
    "            heapq.heappop(self.heap)\n",
    "        return self.heap[0]"
   ]
  },
  {
   "cell_type": "code",
   "execution_count": null,
   "metadata": {},
   "outputs": [],
   "source": [
    "#697. Degree of an Array\n",
    "class Solution:\n",
    "    def findShortestSubArray(self, nums: List[int]) -> int:\n",
    "        from collections import defaultdict, Counter\n",
    "        freq = Counter(nums)\n",
    "        max_freq = max(freq.values())\n",
    "        min_length = float('inf')\n",
    "        left, right = {}, {}\n",
    "        for i, num in enumerate(nums):\n",
    "            if num not in left:\n",
    "                left[num] = i\n",
    "            right[num] = i\n",
    "        for num in freq:\n",
    "            if freq[num] == max_freq:\n",
    "                min_length = min(min_length, right[num] - left[num] + 1)\n",
    "        return min_length"
   ]
  },
  {
   "cell_type": "code",
   "execution_count": null,
   "metadata": {},
   "outputs": [],
   "source": [
    "#696. Count Binary Substrings\n",
    "class Solution:\n",
    "    def countBinarySubstrings(self, s: str) -> int:\n",
    "        counts = []\n",
    "        current = s[0]\n",
    "        count = 1\n",
    "        for i in range(1, len(s)):\n",
    "            if s[i] == current:\n",
    "                count += 1\n",
    "            else:\n",
    "                counts.append(count)\n",
    "                current = s[i]\n",
    "                count = 1\n",
    "        counts.append(count)\n",
    "        total = 0\n",
    "        for i in range(1, len(counts)):\n",
    "            total += min(counts[i-1], counts[i])\n",
    "        return total"
   ]
  },
  {
   "cell_type": "code",
   "execution_count": null,
   "metadata": {},
   "outputs": [],
   "source": [
    "#693. Binary Number with Alternating Bits\n",
    "class Solution:\n",
    "    def hasAlternatingBits(self, n: int) -> bool:\n",
    "        prev_bit = n & 1\n",
    "        n >>= 1\n",
    "        while n > 0:\n",
    "            current_bit = n & 1\n",
    "            if current_bit == prev_bit:\n",
    "                return False\n",
    "            prev_bit = current_bit\n",
    "            n >>= 1\n",
    "        return True"
   ]
  },
  {
   "cell_type": "code",
   "execution_count": null,
   "metadata": {},
   "outputs": [],
   "source": [
    "#682. Baseball Game\n",
    "class Solution:\n",
    "    def calPoints(self, operations: List[str]) -> int:\n",
    "        stack = []\n",
    "        for op in operations:\n",
    "            if op == '+':\n",
    "                stack.append(stack[-1] + stack[-2])\n",
    "            elif op == 'D':\n",
    "                stack.append(2 * stack[-1])\n",
    "            elif op == 'C':\n",
    "                stack.pop()\n",
    "            else:\n",
    "                stack.append(int(op))\n",
    "        return sum(stack)"
   ]
  },
  {
   "cell_type": "code",
   "execution_count": null,
   "metadata": {},
   "outputs": [],
   "source": [
    "#680. Valid Palindrome II\n",
    "class Solution:\n",
    "    def validPalindrome(self, s: str) -> bool:\n",
    "        def is_palindrome(left, right):\n",
    "            while left < right:\n",
    "                if s[left] != s[right]:\n",
    "                    return False\n",
    "                left += 1\n",
    "                right -= 1\n",
    "            return True\n",
    "        left, right = 0, len(s) - 1\n",
    "        while left < right:\n",
    "            if s[left] != s[right]:\n",
    "                return is_palindrome(left + 1, right) or is_palindrome(left, right - 1)\n",
    "            left += 1\n",
    "            right -= 1\n",
    "        return True"
   ]
  },
  {
   "cell_type": "code",
   "execution_count": null,
   "metadata": {},
   "outputs": [],
   "source": [
    "#674. Longest Continuous Increasing Subsequence\n",
    "class Solution:\n",
    "    def findLengthOfLCIS(self, nums: List[int]) -> int:\n",
    "        if not nums:\n",
    "            return 0\n",
    "        max_length = 1 \n",
    "        current_length = 1\n",
    "        for i in range(1, len(nums)):\n",
    "            if nums[i] > nums[i - 1]:\n",
    "                current_length += 1\n",
    "            else:\n",
    "                max_length = max(max_length, current_length)\n",
    "                current_length = 1\n",
    "        max_length = max(max_length, current_length)\n",
    "        return max_length"
   ]
  },
  {
   "cell_type": "code",
   "execution_count": null,
   "metadata": {},
   "outputs": [],
   "source": [
    "#661. Image Smoother\n",
    "class Solution:\n",
    "    def imageSmoother(self, img: List[List[int]]) -> List[List[int]]:\n",
    "        m, n = len(img), len(img[0])\n",
    "        result = [[0] * n for _ in range(m)]\n",
    "        for i in range(m):\n",
    "            for j in range(n):\n",
    "                count = 0\n",
    "                total = 0\n",
    "                for x in range(max(0, i - 1), min(m, i + 2)):\n",
    "                    for y in range(max(0, j - 1), min(n, j + 2)):\n",
    "                        total += img[x][y]\n",
    "                        count += 1\n",
    "                result[i][j] = total // count\n",
    "        return result"
   ]
  },
  {
   "cell_type": "code",
   "execution_count": null,
   "metadata": {},
   "outputs": [],
   "source": [
    "#657. Robot Return to Origin\n",
    "class Solution:\n",
    "    def judgeCircle(self, moves: str) -> bool:\n",
    "        x, y = 0, 0\n",
    "        for move in moves:\n",
    "            if move == 'R':\n",
    "                x += 1\n",
    "            elif move == 'L':\n",
    "                x -= 1\n",
    "            elif move == 'U':\n",
    "                y += 1\n",
    "            elif move == 'D':\n",
    "                y -= 1\n",
    "        return x == 0 and y == 0"
   ]
  },
  {
   "cell_type": "code",
   "execution_count": null,
   "metadata": {},
   "outputs": [],
   "source": [
    "#645. Set Mismatch\n",
    "class Solution:\n",
    "    def findErrorNums(self, nums: List[int]) -> List[int]:\n",
    "        n = len(nums)\n",
    "        num_set = set(nums)\n",
    "        duplicate = sum(nums) - sum(num_set)\n",
    "        missing = (n * (n + 1) // 2) - sum(num_set)\n",
    "        return [duplicate, missing]"
   ]
  },
  {
   "cell_type": "code",
   "execution_count": null,
   "metadata": {},
   "outputs": [],
   "source": [
    "#643. Maximum Average Subarray I\n",
    "class Solution:\n",
    "    def findMaxAverage(self, nums: List[int], k: int) -> float:\n",
    "        max_sum = current_sum = sum(nums[:k])\n",
    "        for i in range(k, len(nums)):\n",
    "            current_sum += nums[i] - nums[i - k]\n",
    "            max_sum = max(max_sum, current_sum)\n",
    "        return max_sum / k"
   ]
  },
  {
   "cell_type": "code",
   "execution_count": null,
   "metadata": {},
   "outputs": [],
   "source": [
    "#637. Average of Levels in Binary Tree\n",
    "class TreeNode:\n",
    "    def __init__(self, val=0, left=None, right=None):\n",
    "        self.val = val\n",
    "        self.left = left\n",
    "        self.right = right\n",
    "class Solution:\n",
    "    def averageOfLevels(self, root: Optional[TreeNode]) -> List[float]:\n",
    "        if not root:\n",
    "            return []\n",
    "        result = []\n",
    "        queue = deque([root])\n",
    "        while queue:\n",
    "            level_sum = 0\n",
    "            level_count = len(queue)\n",
    "            for _ in range(level_count):\n",
    "                node = queue.popleft()\n",
    "                level_sum += node.val\n",
    "                if node.left:\n",
    "                    queue.append(node.left)\n",
    "                if node.right:\n",
    "                    queue.append(node.right)\n",
    "            result.append(level_sum / level_count)\n",
    "        return result"
   ]
  },
  {
   "cell_type": "code",
   "execution_count": null,
   "metadata": {},
   "outputs": [],
   "source": [
    "#628. Maximum Product of Three Numbers\n",
    "class Solution:\n",
    "    def maximumProduct(self, nums: List[int]) -> int:\n",
    "        nums.sort()\n",
    "        return max(nums[-1] * nums[-2] * nums[-3], nums[0] * nums[1] * nums[-1])"
   ]
  },
  {
   "cell_type": "code",
   "execution_count": null,
   "metadata": {},
   "outputs": [],
   "source": [
    "#605. Can Place Flowers\n",
    "class Solution:\n",
    "    def canPlaceFlowers(self, flowerbed: List[int], n: int) -> bool:\n",
    "        count = 0\n",
    "        i = 0\n",
    "        while i < len(flowerbed):\n",
    "            if flowerbed[i] == 0 and (i == 0 or flowerbed[i - 1] == 0) and (i == len(flowerbed) - 1 or flowerbed[i + 1] == 0):\n",
    "                flowerbed[i] = 1\n",
    "                count += 1\n",
    "            if count >= n:\n",
    "                return True\n",
    "            i += 1\n",
    "        return False"
   ]
  },
  {
   "cell_type": "code",
   "execution_count": null,
   "metadata": {},
   "outputs": [],
   "source": [
    "#599. Minimum Index Sum of Two Lists\n",
    "class Solution:\n",
    "    def findRestaurant(self, list1: List[str], list2: List[str]) -> List[str]:\n",
    "        index_sum = {}\n",
    "        for i, restaurant in enumerate(list1):\n",
    "            index_sum[restaurant] = i\n",
    "        min_index_sum = float('inf')\n",
    "        result = []\n",
    "        for j, restaurant in enumerate(list2):\n",
    "            if restaurant in index_sum:\n",
    "                current_index_sum = j + index_sum[restaurant]\n",
    "                if current_index_sum < min_index_sum:\n",
    "                    min_index_sum = current_index_sum\n",
    "                    result = [restaurant]\n",
    "                elif current_index_sum == min_index_sum:\n",
    "                    result.append(restaurant)\n",
    "        return result"
   ]
  },
  {
   "cell_type": "code",
   "execution_count": null,
   "metadata": {},
   "outputs": [],
   "source": [
    "#598. Range Addition II\n",
    "class Solution:\n",
    "    def maxCount(self, m: int, n: int, ops: List[List[int]]) -> int:\n",
    "        if not ops:\n",
    "            return m * n\n",
    "        min_ai = min(op[0] for op in ops)\n",
    "        min_bi = min(op[1] for op in ops)\n",
    "        return min_ai * min_bi"
   ]
  },
  {
   "cell_type": "code",
   "execution_count": null,
   "metadata": {},
   "outputs": [],
   "source": [
    "#594. Longest Harmonious Subsequence\n",
    "from collections import Counter\n",
    "class Solution:\n",
    "    def findLHS(self, nums: List[int]) -> int:\n",
    "        freq_map = Counter(nums)\n",
    "        max_length = 0\n",
    "        for x in freq_map:\n",
    "            if x + 1 in freq_map:\n",
    "                max_length = max(max_length, freq_map[x] + freq_map[x + 1])\n",
    "        return max_length"
   ]
  },
  {
   "cell_type": "code",
   "execution_count": null,
   "metadata": {},
   "outputs": [],
   "source": [
    "#575. Distribute Candies\n",
    "class Solution:\n",
    "    def distributeCandies(self, candyType: List[int]) -> int:\n",
    "        unique_candies = len(set(candyType))\n",
    "        max_eat = len(candyType) // 2\n",
    "        return min(unique_candies, max_eat)"
   ]
  },
  {
   "cell_type": "code",
   "execution_count": null,
   "metadata": {},
   "outputs": [],
   "source": [
    "#566. Reshape the Matrix\n",
    "class Solution:\n",
    "    def matrixReshape(self, mat: List[List[int]], r: int, c: int) -> List[List[int]]:\n",
    "        m = len(mat)\n",
    "        n = len(mat[0])\n",
    "        if m * n != r * c:\n",
    "            return mat\n",
    "        reshaped = [[0] * c for _ in range(r)]\n",
    "        for i in range(m * n):\n",
    "            reshaped[i // c][i % c] = mat[i // n][i % n]\n",
    "        return reshaped  "
   ]
  },
  {
   "cell_type": "code",
   "execution_count": null,
   "metadata": {},
   "outputs": [],
   "source": [
    "#561. Array Partition\n",
    "class Solution:\n",
    "    def arrayPairSum(self, nums: List[int]) -> int:\n",
    "        nums.sort()\n",
    "        return sum(nums[i] for i in range(0, len(nums), 2))"
   ]
  },
  {
   "cell_type": "code",
   "execution_count": null,
   "metadata": {},
   "outputs": [],
   "source": [
    "#557. Reverse Words in a String III\n",
    "class Solution:\n",
    "    def reverseWords(self, s: str) -> str:\n",
    "        words = s.split()\n",
    "        reversed_words = [word[::-1] for word in words]\n",
    "        result = ' '.join(reversed_words)\n",
    "        return result   "
   ]
  },
  {
   "cell_type": "code",
   "execution_count": null,
   "metadata": {},
   "outputs": [],
   "source": [
    "#551. Student Attendance Record I\n",
    "class Solution:\n",
    "    def checkRecord(self, s: str) -> bool:\n",
    "        return s.count('A') < 2 and 'LLL' not in s"
   ]
  },
  {
   "cell_type": "code",
   "execution_count": null,
   "metadata": {},
   "outputs": [],
   "source": [
    "#541. Reverse String II\n",
    "class Solution:\n",
    "    def reverseStr(self, s: str, k: int) -> str:\n",
    "        result = []\n",
    "        for i in range(0, len(s), 2 * k):\n",
    "            result.append(s[i:i+k][::-1] + s[i+k:i+2*k])\n",
    "        return ''.join(result)"
   ]
  },
  {
   "cell_type": "code",
   "execution_count": null,
   "metadata": {},
   "outputs": [],
   "source": [
    "#530. Minimum Absolute Difference in BST\n",
    "class TreeNode:\n",
    "    def __init__(self, val=0, left=None, right=None):\n",
    "        self.val = val\n",
    "        self.left = left\n",
    "        self.right = right\n",
    "class Solution:\n",
    "    def getMinimumDifference(self, root: Optional[TreeNode]) -> int:\n",
    "        def inorder_traversal(node):\n",
    "            nonlocal prev_val, min_diff\n",
    "            if not node:\n",
    "                return\n",
    "            inorder_traversal(node.left)\n",
    "            if prev_val is not None:\n",
    "                min_diff = min(min_diff, node.val - prev_val)\n",
    "            prev_val = node.val\n",
    "            inorder_traversal(node.right)\n",
    "        prev_val = None\n",
    "        min_diff = float('inf')\n",
    "        inorder_traversal(root)\n",
    "        return min_diff"
   ]
  },
  {
   "cell_type": "code",
   "execution_count": null,
   "metadata": {},
   "outputs": [],
   "source": [
    "#521. Longest Uncommon Subsequence I\n",
    "class Solution:\n",
    "    def findLUSlength(self, a: str, b: str) -> int:\n",
    "        if a == b:\n",
    "            return -1\n",
    "        else:\n",
    "            return max(len(a), len(b))     "
   ]
  },
  {
   "cell_type": "code",
   "execution_count": null,
   "metadata": {},
   "outputs": [],
   "source": [
    "#520. Detect Capital\n",
    "class Solution:\n",
    "    def detectCapitalUse(self, word: str) -> bool:\n",
    "        if word.isupper():\n",
    "            return True\n",
    "        if word.islower():\n",
    "            return True\n",
    "        if word[0].isupper() and word[1:].islower():\n",
    "            return True\n",
    "        return False"
   ]
  },
  {
   "cell_type": "code",
   "execution_count": null,
   "metadata": {},
   "outputs": [],
   "source": [
    "#509. Fibonacci Number\n",
    "class Solution:\n",
    "    def fib(self, n: int) -> int:\n",
    "        if n == 0:\n",
    "            return 0\n",
    "        elif n == 1:\n",
    "            return 1\n",
    "        a, b = 0, 1\n",
    "        for _ in range(2, n + 1):\n",
    "            a, b = b, a + b\n",
    "        return b"
   ]
  },
  {
   "cell_type": "code",
   "execution_count": null,
   "metadata": {},
   "outputs": [],
   "source": [
    "#507. Perfect Number\n",
    "class Solution:\n",
    "    def checkPerfectNumber(self, num: int) -> bool:\n",
    "        if num <= 1:\n",
    "            return False\n",
    "        sum_divisors = 1\n",
    "        sqrt_num = int(num**0.5)\n",
    "        for i in range(2, sqrt_num + 1):\n",
    "            if num % i == 0:\n",
    "                sum_divisors += i\n",
    "                if i != num // i:\n",
    "                    sum_divisors += num // i\n",
    "        return sum_divisors == num       "
   ]
  },
  {
   "cell_type": "code",
   "execution_count": null,
   "metadata": {},
   "outputs": [],
   "source": [
    "#506. Relative Ranks\n",
    "class Solution:\n",
    "    def findRelativeRanks(self, score: List[int]) -> List[str]:\n",
    "        sorted_score = sorted(score, reverse=True)\n",
    "        rank_dict = {score: i + 1 for i, score in enumerate(sorted_score)}\n",
    "        result = []\n",
    "        for s in score:\n",
    "            rank = rank_dict[s]\n",
    "            if rank == 1:\n",
    "                result.append(\"Gold Medal\")\n",
    "            elif rank == 2:\n",
    "                result.append(\"Silver Medal\")\n",
    "            elif rank == 3:\n",
    "                result.append(\"Bronze Medal\")\n",
    "            else:\n",
    "                result.append(str(rank))\n",
    "        return result"
   ]
  },
  {
   "cell_type": "code",
   "execution_count": null,
   "metadata": {},
   "outputs": [],
   "source": [
    "#504. Base 7\n",
    "class Solution:\n",
    "    def convertToBase7(self, num: int) -> str:\n",
    "        if num == 0:\n",
    "            return \"0\"    \n",
    "        result = []\n",
    "        is_negative = num < 0\n",
    "        num = abs(num)\n",
    "        while num > 0:\n",
    "            result.append(str(num % 7))\n",
    "            num //= 7\n",
    "        result.reverse()\n",
    "        if is_negative:\n",
    "            return '-' + ''.join(result)\n",
    "        else:\n",
    "            return ''.join(result)      "
   ]
  },
  {
   "cell_type": "code",
   "execution_count": null,
   "metadata": {},
   "outputs": [],
   "source": [
    "#500. Keyboard Row\n",
    "class Solution:\n",
    "    def findWords(self, words: List[str]) -> List[str]:\n",
    "        rows = ['qwertyuiop', 'asdfghjkl', 'zxcvbnm']\n",
    "        row_map = {}\n",
    "        for i, row in enumerate(rows):\n",
    "            for char in row:\n",
    "                row_map[char] = i\n",
    "        result = []\n",
    "        for word in words:\n",
    "            word_lower = word.lower()\n",
    "            row_index = row_map[word_lower[0]]\n",
    "            valid = True\n",
    "            for char in word_lower:\n",
    "                if row_map[char] != row_index:\n",
    "                    valid = False\n",
    "                    break\n",
    "            if valid:\n",
    "                result.append(word)\n",
    "        return result"
   ]
  },
  {
   "cell_type": "code",
   "execution_count": null,
   "metadata": {},
   "outputs": [],
   "source": [
    "#496. Next Greater Element I\n",
    "class Solution:\n",
    "    def nextGreaterElement(self, nums1: List[int], nums2: List[int]) -> List[int]:\n",
    "        stack = []\n",
    "        next_greater = {}\n",
    "        result = []\n",
    "        for num in nums2:\n",
    "            while stack and stack[-1] < num:\n",
    "                next_greater[stack.pop()] = num\n",
    "            stack.append(num)\n",
    "        while stack:\n",
    "            next_greater[stack.pop()] = -1\n",
    "        for num in nums1:\n",
    "            result.append(next_greater[num])\n",
    "        return result"
   ]
  },
  {
   "cell_type": "code",
   "execution_count": null,
   "metadata": {},
   "outputs": [],
   "source": [
    "#495. Teemo Attacking\n",
    "class Solution:\n",
    "    def findPoisonedDuration(self, timeSeries: List[int], duration: int) -> int:\n",
    "        if not timeSeries:\n",
    "            return 0\n",
    "        total_poisoned = 0\n",
    "        last_attack_end = timeSeries[0] + duration - 1\n",
    "        for i in range(1, len(timeSeries)):\n",
    "            current_attack_start = timeSeries[i]\n",
    "            if current_attack_start <= last_attack_end:\n",
    "                total_poisoned += current_attack_start + duration - 1 - last_attack_end\n",
    "            else:\n",
    "                total_poisoned += duration\n",
    "            last_attack_end = current_attack_start + duration - 1\n",
    "        return total_poisoned + duration  "
   ]
  },
  {
   "cell_type": "code",
   "execution_count": null,
   "metadata": {},
   "outputs": [],
   "source": [
    "#492. Construct the Rectangle\n",
    "import math\n",
    "class Solution:\n",
    "    def constructRectangle(self, area: int) -> List[int]:\n",
    "        width = int(math.sqrt(area))\n",
    "        while area % width != 0:\n",
    "            width -= 1\n",
    "        return [area // width, width]        "
   ]
  },
  {
   "cell_type": "code",
   "execution_count": null,
   "metadata": {},
   "outputs": [],
   "source": [
    "#485. Max Consecutive Ones\n",
    "class Solution:\n",
    "    def findMaxConsecutiveOnes(self, nums: List[int]) -> int:\n",
    "        max_count = 0\n",
    "        count = 0\n",
    "        for num in nums:\n",
    "            if num == 1:\n",
    "                count += 1\n",
    "                max_count = max(max_count, count)\n",
    "            else:\n",
    "                count = 0\n",
    "        return max_count"
   ]
  },
  {
   "cell_type": "code",
   "execution_count": null,
   "metadata": {},
   "outputs": [],
   "source": [
    "#482. License Key Formatting\n",
    "class Solution:\n",
    "    def licenseKeyFormatting(self, s: str, k: int) -> str:\n",
    "        s = s.replace('-', '').upper()\n",
    "        n = len(s)\n",
    "        first_group_len = n % k if n % k != 0 else k\n",
    "        result = s[:first_group_len]\n",
    "        for i in range(first_group_len, n, k):\n",
    "            result += '-' + s[i:i+k]\n",
    "        return result "
   ]
  },
  {
   "cell_type": "code",
   "execution_count": null,
   "metadata": {},
   "outputs": [],
   "source": [
    "#476. Number Complement\n",
    "class Solution:\n",
    "    def findComplement(self, num: int) -> int:    \n",
    "        mask = 1\n",
    "        while mask < num:\n",
    "            mask = (mask << 1) | 1\n",
    "        return num ^ mask   "
   ]
  },
  {
   "cell_type": "code",
   "execution_count": null,
   "metadata": {},
   "outputs": [],
   "source": [
    "#463. Island Perimeter\n",
    "class Solution:\n",
    "    def islandPerimeter(self, grid: List[List[int]]) -> int:\n",
    "        perimeter = 0\n",
    "        rows, cols = len(grid), len(grid[0])\n",
    "        for i in range(rows):\n",
    "            for j in range(cols):\n",
    "                if grid[i][j] == 1:\n",
    "                    if j == 0 or grid[i][j - 1] == 0:\n",
    "                        perimeter += 1\n",
    "                    if j == cols - 1 or grid[i][j + 1] == 0:\n",
    "                        perimeter += 1\n",
    "                    if i == 0 or grid[i - 1][j] == 0:\n",
    "                        perimeter += 1\n",
    "                    if i == rows - 1 or grid[i + 1][j] == 0:\n",
    "                        perimeter += 1\n",
    "        return perimeter"
   ]
  },
  {
   "cell_type": "code",
   "execution_count": null,
   "metadata": {},
   "outputs": [],
   "source": [
    "#461. Hamming Distance\n",
    "class Solution:\n",
    "    def hammingDistance(self, x: int, y: int) -> int:\n",
    "        return bin(x ^ y).count('1')  "
   ]
  },
  {
   "cell_type": "code",
   "execution_count": null,
   "metadata": {},
   "outputs": [],
   "source": [
    "#459. Repeated Substring Pattern\n",
    "class Solution:\n",
    "    def repeatedSubstringPattern(self, s: str) -> bool:\n",
    "        return s in (s + s)[1:-1]"
   ]
  },
  {
   "cell_type": "code",
   "execution_count": null,
   "metadata": {},
   "outputs": [],
   "source": [
    "#455. Assign Cookies\n",
    "class Solution:\n",
    "    def findContentChildren(self, g: List[int], s: List[int]) -> int:\n",
    "        g.sort()\n",
    "        s.sort()\n",
    "        i, j = 0, 0\n",
    "        count = 0\n",
    "        while i < len(g) and j < len(s):\n",
    "            if s[j] >= g[i]:\n",
    "                count += 1\n",
    "                i += 1\n",
    "            j += 1\n",
    "        return count"
   ]
  },
  {
   "cell_type": "code",
   "execution_count": null,
   "metadata": {},
   "outputs": [],
   "source": [
    "#448. Find All Numbers Disappeared in an Array\n",
    "class Solution:\n",
    "    def findDisappearedNumbers(self, nums: List[int]) -> List[int]:\n",
    "        n = len(nums)\n",
    "        result = []\n",
    "        for i in range(n):\n",
    "            idx = abs(nums[i]) - 1\n",
    "            if nums[idx] > 0:\n",
    "                nums[idx] = -nums[idx]    \n",
    "        for i in range(n):\n",
    "            if nums[i] > 0:\n",
    "                result.append(i + 1)    \n",
    "        return result"
   ]
  },
  {
   "cell_type": "code",
   "execution_count": null,
   "metadata": {},
   "outputs": [],
   "source": [
    "#441. Arranging Coins\n",
    "class Solution:\n",
    "    def arrangeCoins(self, n: int) -> int:\n",
    "        left, right = 0, n\n",
    "        while left <= right:\n",
    "            mid = (left + right) // 2\n",
    "            total_coins = mid * (mid + 1) // 2\n",
    "            if total_coins <= n:\n",
    "                left = mid + 1\n",
    "            else:\n",
    "                right = mid - 1\n",
    "        return right      "
   ]
  },
  {
   "cell_type": "code",
   "execution_count": null,
   "metadata": {},
   "outputs": [],
   "source": [
    "#434. Number of Segments in a String\n",
    "class Solution:\n",
    "    def countSegments(self, s: str) -> int:\n",
    "        count = 0\n",
    "        for i in range(len(s)):\n",
    "            if s[i] != ' ' and (i == 0 or s[i-1] == ' '):\n",
    "                count += 1\n",
    "        return count"
   ]
  },
  {
   "cell_type": "code",
   "execution_count": null,
   "metadata": {},
   "outputs": [],
   "source": [
    "#415. Add Strings\n",
    "class Solution:\n",
    "    def addStrings(self, num1: str, num2: str) -> str:\n",
    "        i, j = len(num1) - 1, len(num2) - 1\n",
    "        result = []\n",
    "        carry = 0\n",
    "        while i >= 0 or j >= 0:\n",
    "            digit1 = int(num1[i]) if i >= 0 else 0\n",
    "            digit2 = int(num2[j]) if j >= 0 else 0\n",
    "            sum = digit1 + digit2 + carry\n",
    "            result.append(str(sum % 10))\n",
    "            carry = sum // 10\n",
    "            i -= 1\n",
    "            j -= 1\n",
    "        if carry > 0:\n",
    "            result.append(str(carry))\n",
    "        result.reverse()\n",
    "        return ''.join(result)"
   ]
  },
  {
   "cell_type": "code",
   "execution_count": null,
   "metadata": {},
   "outputs": [],
   "source": [
    "#414. Third Maximum Number\n",
    "class Solution:\n",
    "    def thirdMax(self, nums: List[int]) -> int:\n",
    "        first = second = third = None    \n",
    "        for num in nums:\n",
    "            if first is None or num > first:\n",
    "                third = second\n",
    "                second = first\n",
    "                first = num\n",
    "            elif num != first and (second is None or num > second):\n",
    "                third = second\n",
    "                second = num\n",
    "            elif num != first and num != second and (third is None or num > third):\n",
    "                third = num\n",
    "        return third if third is not None else first      "
   ]
  },
  {
   "cell_type": "code",
   "execution_count": null,
   "metadata": {},
   "outputs": [],
   "source": [
    "#412. Fizz Buzz\n",
    "class Solution:\n",
    "    def fizzBuzz(self, n: int) -> List[str]:\n",
    "        result = []\n",
    "        for i in range(1, n + 1):\n",
    "            if i % 3 == 0 and i % 5 == 0:\n",
    "                result.append(\"FizzBuzz\")\n",
    "            elif i % 3 == 0:\n",
    "                result.append(\"Fizz\")\n",
    "            elif i % 5 == 0:\n",
    "                result.append(\"Buzz\")\n",
    "            else:\n",
    "                result.append(str(i))\n",
    "        return result "
   ]
  },
  {
   "cell_type": "code",
   "execution_count": null,
   "metadata": {},
   "outputs": [],
   "source": [
    "#409. Longest Palindrome\n",
    "class Solution:\n",
    "    def longestPalindrome(self, s: str) -> int:\n",
    "        char_count = {}\n",
    "        for char in s:\n",
    "            if char in char_count:\n",
    "                char_count[char] += 1\n",
    "            else:\n",
    "                char_count[char] = 1    \n",
    "        palindrome_length = 0\n",
    "        odd_found = False\n",
    "        for count in char_count.values():\n",
    "            if count % 2 == 0:\n",
    "                palindrome_length += count\n",
    "            else:\n",
    "                palindrome_length += count - 1\n",
    "                odd_found = True\n",
    "        if odd_found:\n",
    "            palindrome_length += 1\n",
    "        return palindrome_length   "
   ]
  },
  {
   "cell_type": "code",
   "execution_count": null,
   "metadata": {},
   "outputs": [],
   "source": [
    "#405. Convert a Number to Hexadecimal\n",
    "class Solution:\n",
    "    def toHex(self, num: int) -> str:\n",
    "        if num == 0:\n",
    "            return \"0\"\n",
    "        if num < 0:\n",
    "            num += 2**32\n",
    "        hex_chars = \"0123456789abcdef\"\n",
    "        result = []\n",
    "        while num > 0:\n",
    "            remainder = num % 16\n",
    "            result.append(hex_chars[remainder])\n",
    "            num //= 16\n",
    "        result.reverse()\n",
    "        return ''.join(result)"
   ]
  },
  {
   "cell_type": "code",
   "execution_count": null,
   "metadata": {},
   "outputs": [],
   "source": [
    "#404. Sum of Left Leaves\n",
    "class TreeNode:\n",
    "    def __init__(self, val=0, left=None, right=None):\n",
    "        self.val = val\n",
    "        self.left = left\n",
    "        self.right = right\n",
    "\n",
    "class Solution:\n",
    "    def sumOfLeftLeaves(self, root: Optional[TreeNode]) -> int:\n",
    "        if not root:\n",
    "            return 0\n",
    "        def isLeaf(node):\n",
    "            return node and not node.left and not node.right\n",
    "        def helper(node):\n",
    "            if not node:\n",
    "                return 0\n",
    "            sum_left_leaves = 0\n",
    "            if node.left:\n",
    "                if isLeaf(node.left):\n",
    "                    sum_left_leaves += node.left.val\n",
    "                else:\n",
    "                    sum_left_leaves += helper(node.left)\n",
    "            sum_left_leaves += helper(node.right)\n",
    "            return sum_left_leaves\n",
    "        return helper(root)      "
   ]
  },
  {
   "cell_type": "code",
   "execution_count": null,
   "metadata": {},
   "outputs": [],
   "source": [
    "#401. Binary Watch\n",
    "class Solution:\n",
    "    def readBinaryWatch(self, turnedOn: int) -> List[str]:\n",
    "        def countBits(num):\n",
    "            return bin(num).count('1')\n",
    "        result = []\n",
    "        for h in range(12):  # Hours range from 0 to 11\n",
    "            for m in range(60):  # Minutes range from 0 to 59\n",
    "                if countBits(h) + countBits(m) == turnedOn:\n",
    "                    result.append(f\"{h}:{m:02d}\")\n",
    "        return result"
   ]
  },
  {
   "cell_type": "code",
   "execution_count": null,
   "metadata": {},
   "outputs": [],
   "source": [
    "#392. Is Subsequence\n",
    "class Solution:\n",
    "    def isSubsequence(self, s: str, t: str) -> bool:\n",
    "        i, j = 0, 0\n",
    "        len_s, len_t = len(s), len(t)\n",
    "        while i < len_s and j < len_t:\n",
    "            if s[i] == t[j]:\n",
    "                i += 1\n",
    "            j += 1\n",
    "        return i == len_s   "
   ]
  },
  {
   "cell_type": "code",
   "execution_count": null,
   "metadata": {},
   "outputs": [],
   "source": [
    "#389. Find the Difference\n",
    "class Solution:\n",
    "    def findTheDifference(self, s: str, t: str) -> str:\n",
    "        char_count = defaultdict(int)\n",
    "        for char in s:\n",
    "            char_count[char] += 1\n",
    "        for char in t:\n",
    "            char_count[char] -= 1\n",
    "            if char_count[char] == -1:\n",
    "                return char\n",
    "        return ''"
   ]
  },
  {
   "cell_type": "code",
   "execution_count": null,
   "metadata": {},
   "outputs": [],
   "source": [
    "#387. First Unique Character in a String\n",
    "class Solution:\n",
    "    def firstUniqChar(self, s: str) -> int:\n",
    "        char_count = {}\n",
    "        for char in s:\n",
    "            if char in char_count:\n",
    "                char_count[char] += 1\n",
    "            else:\n",
    "                char_count[char] = 1\n",
    "        for index, char in enumerate(s):\n",
    "            if char_count[char] == 1:\n",
    "                return index\n",
    "        return -1"
   ]
  },
  {
   "cell_type": "code",
   "execution_count": null,
   "metadata": {},
   "outputs": [],
   "source": [
    "#383. Ransom Note\n",
    "class Solution:\n",
    "    def canConstruct(self, ransomNote: str, magazine: str) -> bool:\n",
    "        char_count = {}\n",
    "        for char in magazine:\n",
    "            if char in char_count:\n",
    "                char_count[char] += 1\n",
    "            else:\n",
    "                char_count[char] = 1\n",
    "        for char in ransomNote:\n",
    "            if char in char_count and char_count[char] > 0:\n",
    "                char_count[char] -= 1\n",
    "            else:\n",
    "                return False\n",
    "        return True"
   ]
  },
  {
   "cell_type": "code",
   "execution_count": null,
   "metadata": {},
   "outputs": [],
   "source": [
    "#374. Guess Number Higher or Lower\n",
    "class Solution:\n",
    "    def guessNumber(self, n: int) -> int:\n",
    "        left, right = 1, n\n",
    "        while left <= right:\n",
    "            mid = left + (right - left) // 2\n",
    "            result = guess(mid)\n",
    "            if result == 0:\n",
    "                return mid\n",
    "            elif result == -1:\n",
    "                right = mid - 1\n",
    "            else:\n",
    "                left = mid + 1\n",
    "        return -1   "
   ]
  },
  {
   "cell_type": "code",
   "execution_count": null,
   "metadata": {},
   "outputs": [],
   "source": [
    "#367. Valid Perfect Square\n",
    "class Solution:\n",
    "    def isPerfectSquare(self, num: int) -> bool:\n",
    "        if num < 1:\n",
    "            return False\n",
    "        left, right = 1, num\n",
    "        while left <= right:\n",
    "            mid = (left + right) // 2\n",
    "            mid_squared = mid * mid\n",
    "            if mid_squared == num:\n",
    "                return True\n",
    "            elif mid_squared < num:\n",
    "                left = mid + 1\n",
    "            else:\n",
    "                right = mid - 1\n",
    "        return False"
   ]
  },
  {
   "cell_type": "code",
   "execution_count": null,
   "metadata": {},
   "outputs": [],
   "source": [
    "#350. Intersection of Two Arrays II\n",
    "from collections import defaultdict\n",
    "class Solution:\n",
    "    def intersect(self, nums1: List[int], nums2: List[int]) -> List[int]:\n",
    "        freq = defaultdict(int)\n",
    "        for num in nums1:\n",
    "            freq[num] += 1\n",
    "            result = []\n",
    "        for num in nums2:\n",
    "            if num in freq and freq[num] > 0:\n",
    "                result.append(num)\n",
    "                freq[num] -= 1\n",
    "        return result"
   ]
  },
  {
   "cell_type": "code",
   "execution_count": null,
   "metadata": {},
   "outputs": [],
   "source": [
    "#349. Intersection of Two Arrays\n",
    "class Solution:\n",
    "    def intersection(self, nums1: List[int], nums2: List[int]) -> List[int]:\n",
    "        set1 = set(nums1)\n",
    "        set2 = set(nums2)\n",
    "        intersection_set = set1 & set2\n",
    "        return list(intersection_set)       "
   ]
  },
  {
   "cell_type": "code",
   "execution_count": null,
   "metadata": {},
   "outputs": [],
   "source": [
    "#345. Reverse Vowels of a String\n",
    "class Solution:\n",
    "    def reverseVowels(self, s: str) -> str:\n",
    "        vowels_set = set('aeiouAEIOU')\n",
    "        s = list(s)\n",
    "        left, right = 0, len(s) - 1\n",
    "        while left < right:\n",
    "            while left < right and s[left] not in vowels_set:\n",
    "                left += 1\n",
    "            while left < right and s[right] not in vowels_set:\n",
    "                right -= 1\n",
    "            if left < right:\n",
    "                s[left], s[right] = s[right], s[left]\n",
    "                left += 1\n",
    "                right -= 1\n",
    "        return ''.join(s)"
   ]
  },
  {
   "cell_type": "code",
   "execution_count": null,
   "metadata": {},
   "outputs": [],
   "source": [
    "#344. Reverse String\n",
    "class Solution:\n",
    "    def reverseString(self, s: List[str]) -> None:\n",
    "        left, right = 0, len(s) - 1\n",
    "        while left < right:\n",
    "            s[left], s[right] = s[right], s[left]\n",
    "            left += 1\n",
    "            right -= 1"
   ]
  },
  {
   "cell_type": "code",
   "execution_count": null,
   "metadata": {},
   "outputs": [],
   "source": [
    "#342. Power of Four\n",
    "class Solution:\n",
    "    def isPowerOfFour(self, n: int) -> bool:\n",
    "        if n <= 0:\n",
    "            return False\n",
    "        while n%4 == 0:\n",
    "            n //= 4\n",
    "        return n == 1"
   ]
  },
  {
   "cell_type": "code",
   "execution_count": null,
   "metadata": {},
   "outputs": [],
   "source": [
    "#338. Counting Bits\n",
    "class Solution:\n",
    "    def countBits(self, n: int) -> List[int]:\n",
    "        ans = [0] * (n + 1)\n",
    "        for i in range(1, n + 1):\n",
    "            ans[i] = ans[i // 2] + (i % 2)\n",
    "        return ans"
   ]
  },
  {
   "cell_type": "code",
   "execution_count": null,
   "metadata": {},
   "outputs": [],
   "source": [
    "#326. Power of Three\n",
    "class Solution:\n",
    "    def isPowerOfThree(self, n: int) -> bool:\n",
    "        if n<=0:\n",
    "            return False\n",
    "        while n%3==0:\n",
    "            n //= 3\n",
    "        return n == 1"
   ]
  },
  {
   "cell_type": "code",
   "execution_count": null,
   "metadata": {},
   "outputs": [],
   "source": [
    "#303. Range Sum Query - Immutable\n",
    "class NumArray:\n",
    "    def __init__(self, nums: List[int]):\n",
    "        self.prefix_sum = [0] * (len(nums) + 1)\n",
    "        for i in range(1, len(self.prefix_sum)):\n",
    "            self.prefix_sum[i] = self.prefix_sum[i - 1] + nums[i - 1]\n",
    "\n",
    "    def sumRange(self, left: int, right: int) -> int:\n",
    "        return self.prefix_sum[right + 1] - self.prefix_sum[left] "
   ]
  },
  {
   "cell_type": "code",
   "execution_count": null,
   "metadata": {},
   "outputs": [],
   "source": [
    "#292. Nim Game\n",
    "class Solution:\n",
    "    def canWinNim(self, n: int) -> bool:\n",
    "        return n % 4 != 0"
   ]
  },
  {
   "cell_type": "code",
   "execution_count": null,
   "metadata": {},
   "outputs": [],
   "source": [
    "#290. Word Pattern\n",
    "class Solution:\n",
    "    def wordPattern(self, pattern: str, s: str) -> bool:\n",
    "        words = s.split()\n",
    "        if len(pattern) != len(words):\n",
    "            return False\n",
    "        pattern_map = {}\n",
    "        word_map = {}\n",
    "        for char, word in zip(pattern, words):\n",
    "            if char in pattern_map:\n",
    "                if pattern_map[char] != word:\n",
    "                    return False\n",
    "            else:\n",
    "                pattern_map[char] = word\n",
    "        \n",
    "            if word in word_map:\n",
    "                if word_map[word] != char:\n",
    "                    return False\n",
    "            else:\n",
    "                word_map[word] = char\n",
    "        return True"
   ]
  },
  {
   "cell_type": "code",
   "execution_count": null,
   "metadata": {},
   "outputs": [],
   "source": [
    "#283. Move Zeroes\n",
    "class Solution:\n",
    "    def moveZeroes(self, nums: List[int]) -> None:\n",
    "        left, right = 0, 0\n",
    "        n = len(nums)\n",
    "        while left < n:\n",
    "            if nums[left] != 0:\n",
    "                nums[right] = nums[left]\n",
    "                right += 1\n",
    "            left += 1\n",
    "        while right < n:\n",
    "            nums[right] = 0\n",
    "            right += 1"
   ]
  },
  {
   "cell_type": "code",
   "execution_count": null,
   "metadata": {},
   "outputs": [],
   "source": [
    "#278. First Bad Version\n",
    "class Solution:\n",
    "    def firstBadVersion(self, n: int) -> int:\n",
    "        left, right = 1, n\n",
    "        while left < right:\n",
    "            mid = left + (right - left) // 2\n",
    "            if isBadVersion(mid):\n",
    "                right = mid  # Check earlier versions\n",
    "            else:\n",
    "                left = mid + 1  # Check later versions\n",
    "        return left"
   ]
  },
  {
   "cell_type": "code",
   "execution_count": null,
   "metadata": {},
   "outputs": [],
   "source": [
    "#268. Missing Number\n",
    "class Solution:\n",
    "    def missingNumber(self, nums: List[int]) -> int:\n",
    "        n = len(nums)\n",
    "        expected_sum = n * (n + 1) // 2\n",
    "        actual_sum = sum(nums)\n",
    "        return expected_sum - actual_sum"
   ]
  },
  {
   "cell_type": "code",
   "execution_count": null,
   "metadata": {},
   "outputs": [],
   "source": [
    "#263. Ugly Number\n",
    "class Solution:\n",
    "    def isUgly(self, n: int) -> bool:\n",
    "        if n <= 0:\n",
    "            return False\n",
    "        if n == 1:\n",
    "            return True\n",
    "        for factor in [2, 3, 5]:\n",
    "            while n % factor == 0:\n",
    "                n //= factor\n",
    "        return n == 1"
   ]
  },
  {
   "cell_type": "code",
   "execution_count": null,
   "metadata": {},
   "outputs": [],
   "source": [
    "#258. Add Digits\n",
    "class Solution:\n",
    "    def addDigits(self, num: int) -> int:\n",
    "        if num == 0:\n",
    "            return 0\n",
    "        else:\n",
    "            return 1 + (num - 1) % 9"
   ]
  },
  {
   "cell_type": "code",
   "execution_count": null,
   "metadata": {},
   "outputs": [],
   "source": [
    "#257. Binary Tree Paths\n",
    "class TreeNode:\n",
    "    def __init__(self, val=0, left=None, right=None):\n",
    "        self.val = val\n",
    "        self.left = left\n",
    "        self.right = right\n",
    "class Solution:\n",
    "    def binaryTreePaths(self, root: TreeNode) -> List[str]:\n",
    "        paths = []\n",
    "        self.dfs(root, [], paths)\n",
    "        return paths    \n",
    "    def dfs(self, node: TreeNode, path: List[int], paths: List[str]):\n",
    "        if not node:\n",
    "            return\n",
    "        path.append(node.val)\n",
    "        if not node.left and not node.right:\n",
    "            paths.append(\"->\".join(map(str, path)))\n",
    "        if node.left:\n",
    "            self.dfs(node.left, path, paths)\n",
    "        if node.right:\n",
    "            self.dfs(node.right, path, paths)\n",
    "        path.pop()"
   ]
  },
  {
   "cell_type": "code",
   "execution_count": null,
   "metadata": {},
   "outputs": [],
   "source": [
    "#242. Valid Anagram\n",
    "class Solution:\n",
    "    def isAnagram(self, s: str, t: str) -> bool:\n",
    "        if len(s) != len(t):\n",
    "            return False\n",
    "        char_count = [0] * 26\n",
    "        for char in s:\n",
    "            char_count[ord(char) - ord('a')] += 1\n",
    "        for char in t:\n",
    "            char_count[ord(char) - ord('a')] -= 1\n",
    "            if char_count[ord(char) - ord('a')] < 0:\n",
    "                return False\n",
    "        return True"
   ]
  },
  {
   "cell_type": "code",
   "execution_count": null,
   "metadata": {},
   "outputs": [],
   "source": [
    "#231. Power of Two\n",
    "class Solution:\n",
    "    def isPowerOfTwo(self, n: int) -> bool:\n",
    "        return n > 0 and (n & (n - 1)) == 0"
   ]
  },
  {
   "cell_type": "code",
   "execution_count": null,
   "metadata": {},
   "outputs": [],
   "source": [
    "#228. Summary Ranges\n",
    "class Solution:\n",
    "    def summaryRanges(self, nums: List[int]) -> List[str]:\n",
    "        if not nums:\n",
    "            return []\n",
    "        result = []\n",
    "        start = nums[0]\n",
    "        for i in range(1, len(nums)):\n",
    "            if nums[i] != nums[i - 1] + 1:\n",
    "                end = nums[i - 1]\n",
    "                if start == end:\n",
    "                    result.append(str(start))\n",
    "                else:\n",
    "                    result.append(f\"{start}->{end}\")\n",
    "                start = nums[i]\n",
    "        if start == nums[-1]:\n",
    "            result.append(str(start))\n",
    "        else:\n",
    "            result.append(f\"{start}->{nums[-1]}\")\n",
    "        return result"
   ]
  },
  {
   "cell_type": "code",
   "execution_count": null,
   "metadata": {},
   "outputs": [],
   "source": [
    "#219. Contains Duplicate II\n",
    "class Solution:\n",
    "    def containsNearbyDuplicate(self, nums: List[int], k: int) -> bool:\n",
    "        seen = {}\n",
    "        for idx, num in enumerate(nums):\n",
    "            if num in seen and idx - seen[num] <= k:\n",
    "                return True\n",
    "            seen[num] = idx\n",
    "        return False"
   ]
  },
  {
   "cell_type": "code",
   "execution_count": null,
   "metadata": {},
   "outputs": [],
   "source": [
    "#217. Contains Duplicate\n",
    "class Solution:\n",
    "    def containsDuplicate(self, nums: List[int]) -> bool:\n",
    "        seen = set()\n",
    "        for num in nums:\n",
    "            if num in seen:\n",
    "                return True\n",
    "            seen.add(num)\n",
    "        return False"
   ]
  },
  {
   "cell_type": "code",
   "execution_count": null,
   "metadata": {},
   "outputs": [],
   "source": [
    "#206. Reverse Linked List\n",
    "class ListNode:\n",
    "    def __init__(self, val=0, next=None):\n",
    "        self.val = val\n",
    "        self.next = next\n",
    "class Solution:\n",
    "    def reverseList(self, head: Optional[ListNode]) -> Optional[ListNode]:\n",
    "        prev = None\n",
    "        current = head\n",
    "        while current:\n",
    "            next_node = current.next\n",
    "            current.next = prev\n",
    "            prev = current\n",
    "            current = next_node\n",
    "        return prev    "
   ]
  },
  {
   "cell_type": "code",
   "execution_count": null,
   "metadata": {},
   "outputs": [],
   "source": [
    "#205. Isomorphic Strings\n",
    "class Solution:\n",
    "    def isIsomorphic(self, s: str, t: str) -> bool:\n",
    "        dictionary = {}\n",
    "        TF=True\n",
    "        if len(s) != len(t):\n",
    "            TF=False\n",
    "        for i in range(0,len(s)):\n",
    "            s[i]\n",
    "            t[i]\n",
    "            if s[i] in dictionary:\n",
    "                if dictionary[s[i]] != t[i]:\n",
    "                    TF=False\n",
    "                    break\n",
    "            else:\n",
    "                dictionary[s[i]]=t[i]\n",
    "        dictionary = {}\n",
    "        for j in range(0,len(t)):\n",
    "            s[j]\n",
    "            t[j]\n",
    "            if t[j] in dictionary:\n",
    "                if dictionary[t[j]] != s[j]:\n",
    "                    TF=False\n",
    "                    break\n",
    "            else:\n",
    "                dictionary[t[j]]=s[j]\n",
    "        return(TF)"
   ]
  },
  {
   "cell_type": "code",
   "execution_count": null,
   "metadata": {},
   "outputs": [],
   "source": [
    "#203. Remove Linked List Elements\n",
    "class ListNode:\n",
    "    def __init__(self, val=0, next=None):\n",
    "        self.val = val\n",
    "        self.next = next\n",
    "class Solution:\n",
    "    def removeElements(self, head: Optional[ListNode], val: int) -> Optional[ListNode]:\n",
    "        dummy = ListNode(next=head)\n",
    "        current = dummy\n",
    "        while current.next:\n",
    "            if current.next.val == val:\n",
    "                current.next = current.next.next\n",
    "            else:\n",
    "                current = current.next\n",
    "        return dummy.next"
   ]
  },
  {
   "cell_type": "code",
   "execution_count": null,
   "metadata": {},
   "outputs": [],
   "source": [
    "#191. Number of 1 Bits\n",
    "class Solution:\n",
    "    def hammingWeight(self, n: int) -> int:\n",
    "        count = 0\n",
    "        while n:\n",
    "            count += n & 1\n",
    "            n >>= 1\n",
    "        return count"
   ]
  },
  {
   "cell_type": "code",
   "execution_count": null,
   "metadata": {},
   "outputs": [],
   "source": [
    "#190. Reverse Bits\n",
    "class Solution:\n",
    "    def reverseBits(self, n: int) -> int:\n",
    "        result = 0\n",
    "        for i in range(32):\n",
    "            result = (result << 1) | (n & 1)\n",
    "            n >>= 1\n",
    "        return result"
   ]
  },
  {
   "cell_type": "code",
   "execution_count": null,
   "metadata": {},
   "outputs": [],
   "source": [
    "#171. Excel Sheet Column Number\n",
    "class Solution:\n",
    "    def titleToNumber(self, columnTitle: str) -> int:\n",
    "        alphabet_to_number = {chr(i + 64): i for i in range(1, 27)}\n",
    "        length=len(columnTitle)\n",
    "        number=0\n",
    "        for i in range(length):\n",
    "            number += (26**(length-i-1))*alphabet_to_number.get(columnTitle[i])\n",
    "        return(number)"
   ]
  },
  {
   "cell_type": "code",
   "execution_count": null,
   "metadata": {},
   "outputs": [],
   "source": [
    "#169. Majority Element\n",
    "from typing import List\n",
    "class Solution:\n",
    "    def majorityElement(self, nums: List[int]) -> int:\n",
    "        candidate = None\n",
    "        count = 0\n",
    "        for num in nums:\n",
    "            if count == 0:\n",
    "                candidate = num\n",
    "                count = 1\n",
    "            elif num == candidate:\n",
    "                count += 1\n",
    "            else:\n",
    "                count -= 1\n",
    "        return candidate"
   ]
  },
  {
   "cell_type": "code",
   "execution_count": null,
   "metadata": {},
   "outputs": [],
   "source": [
    "#145. Binary Tree Postorder Traversal\n",
    "class TreeNode:\n",
    "    def __init__(self, val=0, left=None, right=None):\n",
    "        self.val = val\n",
    "        self.left = left\n",
    "        self.right = right\n",
    "class Solution:\n",
    "    def postorderTraversal(self, root: Optional[TreeNode]) -> List[int]:\n",
    "        result = []\n",
    "        if root:\n",
    "            result.extend(self.postorderTraversal(root.left))\n",
    "            result.extend(self.postorderTraversal(root.right))\n",
    "            result.append(root.val)\n",
    "        return result"
   ]
  },
  {
   "cell_type": "code",
   "execution_count": null,
   "metadata": {},
   "outputs": [],
   "source": [
    "#144. Binary Tree Preorder Traversal\n",
    "class TreeNode:\n",
    "    def __init__(self, val=0, left=None, right=None):\n",
    "        self.val = val\n",
    "        self.left = left\n",
    "        self.right = right\n",
    "class Solution:\n",
    "    def preorderTraversal(self, root: Optional[TreeNode]) -> List[int]:\n",
    "        result = []\n",
    "        if root:\n",
    "            result.append(root.val)\n",
    "            result.extend(self.preorderTraversal(root.left))\n",
    "            result.extend(self.preorderTraversal(root.right))\n",
    "        return result        "
   ]
  },
  {
   "cell_type": "code",
   "execution_count": null,
   "metadata": {},
   "outputs": [],
   "source": [
    "#141. Linked List Cycle\n",
    "class ListNode:\n",
    "    def __init__(self, x):\n",
    "        self.val = x\n",
    "        self.next = None\n",
    "\n",
    "class Solution:\n",
    "    def hasCycle(self, head: Optional[ListNode]) -> bool:\n",
    "        if not head or not head.next:\n",
    "            return False\n",
    "        slow = head\n",
    "        fast = head.next\n",
    "        while slow != fast:\n",
    "            if not fast or not fast.next:\n",
    "                return False\n",
    "            slow = slow.next\n",
    "            fast = fast.next.next\n",
    "        return True"
   ]
  },
  {
   "cell_type": "code",
   "execution_count": null,
   "metadata": {},
   "outputs": [],
   "source": [
    "#136. Single Number\n",
    "class Solution:\n",
    "    def singleNumber(self, nums: List[int]) -> int:\n",
    "        single_number = 0\n",
    "        for num in nums:\n",
    "            single_number ^= num\n",
    "        return single_number"
   ]
  },
  {
   "cell_type": "code",
   "execution_count": null,
   "metadata": {},
   "outputs": [],
   "source": [
    "#125. Valid Palindrome\n",
    "class Solution:\n",
    "    def isPalindrome(self, s: str) -> bool:\n",
    "        normalized_str = ''.join(char.lower() for char in s if char.isalnum())\n",
    "        return normalized_str == normalized_str[::-1]"
   ]
  },
  {
   "cell_type": "code",
   "execution_count": null,
   "metadata": {},
   "outputs": [],
   "source": [
    "#121. Best Time to Buy and Sell Stock\n",
    "class Solution:\n",
    "    def maxProfit(self, prices: List[int]) -> int:\n",
    "        if not prices or len(prices) < 2:\n",
    "            return 0\n",
    "        min_price = float('inf')\n",
    "        max_profit = 0\n",
    "        for price in prices:\n",
    "            min_price = min(min_price, price)\n",
    "            max_profit = max(max_profit, price - min_price)\n",
    "        return max_profit"
   ]
  },
  {
   "cell_type": "code",
   "execution_count": null,
   "metadata": {},
   "outputs": [],
   "source": [
    "#119. Pascal's Triangle II\n",
    "class Solution:\n",
    "    def getRow(self, rowIndex: int) -> List[int]:\n",
    "        row = [1] * (rowIndex + 1)  # Initialize row with all 1s\n",
    "        for i in range(1, rowIndex + 1):\n",
    "            for j in range(i - 1, 0, -1):\n",
    "                row[j] += row[j - 1]\n",
    "        return row"
   ]
  },
  {
   "cell_type": "code",
   "execution_count": null,
   "metadata": {},
   "outputs": [],
   "source": [
    "#118. Pascal's Triangle\n",
    "class Solution:\n",
    "    def generate(self, numRows: int) -> List[List[int]]:\n",
    "        if numRows == 0:\n",
    "            return []        \n",
    "        triangle = []\n",
    "        for i in range(1, numRows + 1):\n",
    "            row = [1]\n",
    "            if i > 1:\n",
    "                for j in range(1, i - 1):\n",
    "                    row.append(triangle[i - 2][j - 1] + triangle[i - 2][j])\n",
    "                row.append(1)\n",
    "            triangle.append(row)\n",
    "        return triangle"
   ]
  },
  {
   "cell_type": "code",
   "execution_count": null,
   "metadata": {},
   "outputs": [],
   "source": [
    "#112. Path Sum\n",
    "class TreeNode:\n",
    "    def __init__(self, val=0, left=None, right=None):\n",
    "        self.val = val\n",
    "        self.left = left\n",
    "        self.right = right\n",
    "class Solution:\n",
    "    def hasPathSum(self, root: Optional[TreeNode], targetSum: int) -> bool:\n",
    "        def dfs(node, current_sum):\n",
    "            if not node:\n",
    "                return False\n",
    "            current_sum += node.val\n",
    "            if not node.left and not node.right:\n",
    "                return current_sum == targetSum\n",
    "            return dfs(node.left, current_sum) or dfs(node.right, current_sum)\n",
    "        if not root:\n",
    "            return False \n",
    "        return dfs(root, 0)"
   ]
  },
  {
   "cell_type": "code",
   "execution_count": null,
   "metadata": {},
   "outputs": [],
   "source": [
    "#111. Minimum Depth of Binary Tree\n",
    "class TreeNode:\n",
    "    def __init__(self, val=0, left=None, right=None):\n",
    "        self.val = val\n",
    "        self.left = left\n",
    "        self.right = right\n",
    "class Solution:\n",
    "    def minDepth(self, root: Optional[TreeNode]) -> int:\n",
    "        def dfs(node, depth):\n",
    "            if not node:\n",
    "                return float('inf')\n",
    "            if not node.left and not node.right:\n",
    "                return depth\n",
    "            left_min_depth = dfs(node.left, depth + 1)\n",
    "            right_min_depth = dfs(node.right, depth + 1)            \n",
    "            return min(left_min_depth, right_min_depth)        \n",
    "        if not root:\n",
    "            return 0        \n",
    "        return dfs(root, 1)"
   ]
  },
  {
   "cell_type": "code",
   "execution_count": null,
   "metadata": {},
   "outputs": [],
   "source": [
    "#110. Balanced Binary Tree\n",
    "class TreeNode:\n",
    "    def __init__(self, val=0, left=None, right=None):\n",
    "        self.val = val\n",
    "        self.left = left\n",
    "        self.right = right\n",
    "class Solution:\n",
    "    def isBalanced(self, root: Optional[TreeNode]) -> bool:\n",
    "        def checkBalance(node):\n",
    "            if not node:\n",
    "                return True, 0\n",
    "            \n",
    "            left_balanced, left_height = checkBalance(node.left)\n",
    "            right_balanced, right_height = checkBalance(node.right)\n",
    "            \n",
    "            current_height = 1 + max(left_height, right_height)\n",
    "            is_current_balanced = left_balanced and right_balanced and abs(left_height - right_height) <= 1\n",
    "            \n",
    "            return is_current_balanced, current_height\n",
    "        balanced, _ = checkBalance(root)\n",
    "        return balanced"
   ]
  },
  {
   "cell_type": "code",
   "execution_count": null,
   "metadata": {},
   "outputs": [],
   "source": [
    "#108. Convert Sorted Array to Binary Search Tree\n",
    "class TreeNode:\n",
    "    def __init__(self, val=0, left=None, right=None):\n",
    "        self.val = val\n",
    "        self.left = left\n",
    "        self.right = right\n",
    "class Solution:\n",
    "    def sortedArrayToBST(self, nums: List[int]) -> Optional[TreeNode]:\n",
    "        def constructBST(left, right):\n",
    "            if left > right:\n",
    "                return None\n",
    "            \n",
    "            mid = (left + right) // 2\n",
    "            root = TreeNode(nums[mid])\n",
    "            root.left = constructBST(left, mid - 1)\n",
    "            root.right = constructBST(mid + 1, right)\n",
    "            return root\n",
    "        return constructBST(0, len(nums) - 1)"
   ]
  },
  {
   "cell_type": "code",
   "execution_count": null,
   "metadata": {},
   "outputs": [],
   "source": [
    "#100. Same Tree\n",
    "class TreeNode:\n",
    "    def __init__(self, val=0, left=None, right=None):\n",
    "        self.val = val\n",
    "        self.left = left\n",
    "        self.right = right\n",
    "        \n",
    "class Solution:\n",
    "    def isSameTree(self, p: Optional[TreeNode], q: Optional[TreeNode]) -> bool:\n",
    "        def isSame(p, q):\n",
    "            if not p and not q:\n",
    "                return True\n",
    "            if not p or not q:\n",
    "                return False\n",
    "            if p.val != q.val:\n",
    "                return False\n",
    "            return isSame(p.left, q.left) and isSame(p.right, q.right)\n",
    "        return isSame(p, q)"
   ]
  },
  {
   "cell_type": "code",
   "execution_count": null,
   "metadata": {},
   "outputs": [],
   "source": [
    "#104. Maximum Depth of Binary Tree\n",
    "class TreeNode:\n",
    "    def __init__(self, val=0, left=None, right=None):\n",
    "        self.val = val\n",
    "        self.left = left\n",
    "        self.right = right\n",
    "\n",
    "class Solution:\n",
    "    def maxDepth(self, root: Optional[TreeNode]) -> int:\n",
    "        def dfs(node):\n",
    "            if not node:\n",
    "                return 0\n",
    "            left_depth = dfs(node.left)\n",
    "            right_depth = dfs(node.right)\n",
    "            return 1 + max(left_depth, right_depth)\n",
    "        return dfs(root)"
   ]
  },
  {
   "cell_type": "code",
   "execution_count": null,
   "metadata": {},
   "outputs": [],
   "source": [
    "#168. Excel Sheet Column Title\n",
    "class Solution:\n",
    "    def convertToTitle(self, columnNumber: int) -> str:\n",
    "        result = []\n",
    "        while columnNumber > 0:\n",
    "            columnNumber -= 1  # Adjust for 1-based index\n",
    "            remainder = columnNumber % 26\n",
    "            result.append(chr(remainder + ord('A')))\n",
    "            columnNumber //= 26\n",
    "        result.reverse()\n",
    "        return ''.join(result)"
   ]
  },
  {
   "cell_type": "code",
   "execution_count": null,
   "metadata": {},
   "outputs": [],
   "source": [
    "#101. Symmetric Tree\n",
    "class TreeNode:\n",
    "     def __init__(self, val=0, left=None, right=None):\n",
    "         self.val = val\n",
    "         self.left = left\n",
    "         self.right = right\n",
    "\n",
    "class Solution:\n",
    "    def isSymmetric(self, root: Optional[TreeNode]) -> bool:\n",
    "        if not root:\n",
    "            return True\n",
    "        def isMirror(left, right):\n",
    "            if not left and not right:\n",
    "                return True\n",
    "            if not left or not right:\n",
    "                return False\n",
    "            return (left.val == right.val) and isMirror(left.left, right.right) and isMirror(left.right, right.left)\n",
    "        return isMirror(root.left, root.right)"
   ]
  },
  {
   "cell_type": "code",
   "execution_count": null,
   "metadata": {},
   "outputs": [],
   "source": [
    "#94. Binary Tree Inorder Traversal\n",
    "class TreeNode:\n",
    "    def __init__(self, val=0, left=None, right=None):\n",
    "        self.val = val\n",
    "        self.left = left\n",
    "        self.right = right\n",
    "class Solution:\n",
    "    def inorderTraversal(self, root: Optional[TreeNode]) -> List[int]:\n",
    "        result = []\n",
    "        stack = []\n",
    "        current = root\n",
    "        while current or stack:\n",
    "            while current:\n",
    "                stack.append(current)\n",
    "                current = current.left\n",
    "            current = stack.pop()\n",
    "            result.append(current.val)\n",
    "            current = current.right\n",
    "        return result"
   ]
  },
  {
   "cell_type": "code",
   "execution_count": null,
   "metadata": {},
   "outputs": [],
   "source": [
    "#88. Merge Sorted Array\n",
    "class Solution:\n",
    "    def merge(self, nums1: List[int], m: int, nums2: List[int], n: int) -> None:\n",
    "        p1 = m - 1\n",
    "        p2 = n - 1\n",
    "        p = m + n - 1\n",
    "        while p1 >= 0 and p2 >= 0:\n",
    "            if nums1[p1] > nums2[p2]:\n",
    "                nums1[p] = nums1[p1]\n",
    "                p1 -= 1\n",
    "            else:\n",
    "                nums1[p] = nums2[p2]\n",
    "                p2 -= 1\n",
    "            p -= 1\n",
    "        while p2 >= 0:\n",
    "            nums1[p] = nums2[p2]\n",
    "            p2 -= 1\n",
    "            p -= 1"
   ]
  },
  {
   "cell_type": "code",
   "execution_count": null,
   "metadata": {},
   "outputs": [],
   "source": [
    "#83. Remove Duplicates from Sorted List\n",
    "class ListNode:\n",
    "    def __init__(self, val=0, next=None):\n",
    "        self.val = val\n",
    "        self.next = next\n",
    "class Solution:\n",
    "    def deleteDuplicates(self, head: Optional[ListNode]) -> Optional[ListNode]:\n",
    "        if not head:\n",
    "            return None\n",
    "        current = head\n",
    "        while current and current.next:\n",
    "            if current.val == current.next.val:\n",
    "                current.next = current.next.next\n",
    "            else:\n",
    "                current = current.next\n",
    "        return head"
   ]
  },
  {
   "cell_type": "code",
   "execution_count": null,
   "metadata": {},
   "outputs": [],
   "source": [
    "#70. Climbing Stairs\n",
    "class Solution:\n",
    "    def climbStairs(self, n: int) -> int:\n",
    "        if n == 0:\n",
    "            return 1\n",
    "        elif n == 1:\n",
    "            return 1\n",
    "        dp = [0] * (n + 1)\n",
    "        dp[0] = 1\n",
    "        dp[1] = 1\n",
    "        for i in range(2, n + 1):\n",
    "            dp[i] = dp[i - 1] + dp[i - 2]\n",
    "        return dp[n]"
   ]
  },
  {
   "cell_type": "code",
   "execution_count": null,
   "metadata": {},
   "outputs": [],
   "source": [
    "#69. Sqrt(x)\n",
    "class Solution:\n",
    "    def mySqrt(self, x: int) -> int:\n",
    "        if x == 0:\n",
    "            return 0\n",
    "        left, right = 1, x\n",
    "        while left <= right:\n",
    "            mid = left + (right - left) // 2\n",
    "            if mid * mid == x:\n",
    "                return mid\n",
    "            elif mid * mid < x:\n",
    "                left = mid + 1\n",
    "            else:\n",
    "                right = mid - 1\n",
    "        return right"
   ]
  },
  {
   "cell_type": "code",
   "execution_count": null,
   "metadata": {},
   "outputs": [],
   "source": [
    "#67. Add Binary\n",
    "class Solution:\n",
    "    def addBinary(self, a: str, b: str) -> str:\n",
    "        lena = len(a)\n",
    "        lenb = len(b)\n",
    "        suma = 0\n",
    "        sumb = 0\n",
    "        for i in range(0,lena):\n",
    "            suma += (2**(lena-i-1)*int(a[i]))\n",
    "        for j in range(0,lenb):\n",
    "            sumb += (2**(lenb-j-1)*int(b[j]))\n",
    "        return(bin(suma+sumb)[2:])"
   ]
  },
  {
   "cell_type": "code",
   "execution_count": null,
   "metadata": {},
   "outputs": [],
   "source": [
    "#66. Plus One\n",
    "class Solution:\n",
    "    def plusOne(self, digits: List[int]) -> List[int]:\n",
    "        n = len(digits)\n",
    "        digits[-1] += 1\n",
    "        carry = 0\n",
    "        for i in range(n-1, -1, -1):\n",
    "            digits[i] += carry\n",
    "            carry = digits[i] // 10\n",
    "            digits[i] %= 10\n",
    "        if carry > 0:\n",
    "            digits.insert(0, carry)s\n",
    "        return digits"
   ]
  },
  {
   "cell_type": "markdown",
   "metadata": {},
   "source": [
    "**리트코드 문제 풀이 끝.**\n",
    "==="
   ]
  }
 ],
 "metadata": {
  "kernelspec": {
   "display_name": "Python 3",
   "language": "python",
   "name": "python3"
  },
  "language_info": {
   "codemirror_mode": {
    "name": "ipython",
    "version": 3
   },
   "file_extension": ".py",
   "mimetype": "text/x-python",
   "name": "python",
   "nbconvert_exporter": "python",
   "pygments_lexer": "ipython3",
   "version": "3.8.5"
  }
 },
 "nbformat": 4,
 "nbformat_minor": 4
}
